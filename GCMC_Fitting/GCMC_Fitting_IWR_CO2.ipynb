{
 "cells": [
  {
   "cell_type": "markdown",
   "metadata": {},
   "source": [
    "# Import Library"
   ]
  },
  {
   "cell_type": "code",
   "execution_count": 1,
   "metadata": {},
   "outputs": [],
   "source": [
    "import pyiast\n",
    "import pandas as pd\n",
    "import numpy as np\n",
    "import os\n",
    "import matplotlib.pyplot as plt\n",
    "import pickle\n",
    "import time\n",
    "import os\n",
    "import scipy.optimize as optim\n",
    "import matplotlib.pyplot as plt"
   ]
  },
  {
   "cell_type": "markdown",
   "metadata": {},
   "source": [
    "# Import Isotherm Fitting Data"
   ]
  },
  {
   "cell_type": "code",
   "execution_count": 2,
   "metadata": {},
   "outputs": [],
   "source": [
    "basepath = os.getcwd()"
   ]
  },
  {
   "cell_type": "code",
   "execution_count": 3,
   "metadata": {},
   "outputs": [],
   "source": [
    "os.chdir(basepath)\n",
    "os.chdir('..')\n",
    "\n",
    "df_NAME=pd.read_csv(\"HEAT_0413.csv\")\n",
    "\n",
    "bins_CO2 = []\n",
    "bins_H2S = []\n",
    "for nam in df_NAME[\"NAME\"]:\n",
    "    f_tmp = open(\"iso_\"+nam+\"_saved.bin\",'rb')\n",
    "    bin_tmp = np.array(pickle.load(f_tmp))\n",
    "    bins_CO2.append(bin_tmp[[False, True, True]]) ## Pick 1 = CO2, 2 = CH4 \n",
    "    f_tmp.close()\n",
    "for nam in df_NAME[\"NAME\"]:\n",
    "    f_tmp = open(\"iso_\"+nam+\"_saved.bin\",'rb') ## 0 = H2S , 1 = CO2, 2 = CH4\n",
    "    bin_tmp = np.array(pickle.load(f_tmp))\n",
    "    bins_H2S.append(bin_tmp[[True, False, True]]) ## Pick 0 = H2S and 2 = CH4\n",
    "    f_tmp.close()\n",
    "\n",
    "Names_CO2=df_NAME[\"NAME\"].to_numpy()\n",
    "Names_H2S=df_NAME[\"NAME\"].to_numpy()\n",
    "dH_CO2 = np.array([df_NAME[\"CO2_Heat\"], df_NAME[\"CH4_Heat\"]]).T\n",
    "dH_H2S = np.array([df_NAME[\"H2S_Heat\"],df_NAME[\"CH4_Heat\"]]).T\n",
    "\n",
    "os.chdir(basepath)"
   ]
  },
  {
   "cell_type": "code",
   "execution_count": 4,
   "metadata": {},
   "outputs": [
    {
     "name": "stdout",
     "output_type": "stream",
     "text": [
      "4\n",
      "4\n",
      "\n",
      "4\n",
      "4\n"
     ]
    }
   ],
   "source": [
    "print(len(Names_H2S))\n",
    "print(len(bins_H2S))\n",
    "print()\n",
    "print(len(Names_CO2))\n",
    "print(len(bins_CO2))"
   ]
  },
  {
   "cell_type": "markdown",
   "metadata": {},
   "source": [
    "# Functions for Isotherms and Ideal PSA"
   ]
  },
  {
   "cell_type": "code",
   "execution_count": 5,
   "metadata": {},
   "outputs": [],
   "source": [
    "Arrh = lambda T,dH ,T_ref: np.exp(-dH/8.3145*(1/T - 1/T_ref)) # Arrhenius equation (Clasius-Clapeyron Equation)\n",
    "\n",
    "## Isothermal mixture isotherm\n",
    "def iso_mix(P_par, T, iso_list, dH_list,Tref_list):\n",
    "    P_norm = []\n",
    "    for (p,dh,tref) in zip(P_par, dH_list,Tref_list):\n",
    "        p_n = Arrh(T,dh,tref)*p \n",
    "        P_norm.append(p_n)\n",
    "    P_norm_arr = np.array(P_norm)\n",
    "    #print(P_norm_mat.T)\n",
    "    if P_norm_arr.ndim > 1:\n",
    "        for i in range(len(P_norm[0])):\n",
    "            p_tmp = P_norm_arr[i,:]\n",
    "            p_tmp[p_tmp<0.000001] = 0.000001\n",
    "            q_IAST_tmp = pyiast.iast(p_tmp,\n",
    "                                     iso_list,\n",
    "                                     warningoff=True)\n",
    "    else:\n",
    "        try:\n",
    "            p_tmp = P_norm_arr\n",
    "            p_tmp[p_tmp<0.000001] = 0.000001\n",
    "            #print(p_tmp)\n",
    "            q_IAST_tmp = pyiast.iast(p_tmp,\n",
    "                                    iso_list,\n",
    "                                     warningoff=True)\n",
    "        except:    \n",
    "            try:\n",
    "                #print('Initial guess error with P = ',P_par)\n",
    "                x_IG = np.ones(len(p_tmp))/len(p_tmp)\n",
    "                q_IAST_tmp = pyiast.iast(p_tmp,\n",
    "                                        iso_list,adsorbed_mole_fraction_guess = x_IG,\n",
    "                                        warningoff=True)\n",
    "            except:\n",
    "                try:\n",
    "                    arg_min = np.argmin(p_tmp)\n",
    "                    p_tmp[p_tmp<0.000001] = 0.000001\n",
    "                    x_IG = 0.05*np.ones(len(p_tmp))\n",
    "                    x_IG[arg_min] = 1 - 0.05*(len(p_tmp)-1)\n",
    "                    #print(x_IG)\n",
    "                    q_IAST_tmp = pyiast.iast(p_tmp,\n",
    "                                            iso_list,adsorbed_mole_fraction_guess = x_IG,\n",
    "                                            warningoff=True)\n",
    "\n",
    "                except:\n",
    "                    try:\n",
    "                        arg_max = np.argmax(p_tmp)\n",
    "                        p_tmp[p_tmp<0.000001] = 0.000001\n",
    "                        x_IG = 0.05*np.ones(len(p_tmp))\n",
    "                        x_IG[arg_max] = 1 - 0.05*(len(p_tmp)-1)\n",
    "                        #print(x_IG)\n",
    "                        q_IAST_tmp = pyiast.iast(p_tmp,\n",
    "                                                iso_list,adsorbed_mole_fraction_guess = x_IG,\n",
    "                                                warningoff=True)        \n",
    "                    except:\n",
    "                        try:\n",
    "                            arg_max = np.argmax(p_tmp)\n",
    "                            p_tmp[p_tmp<0.000001] = 0.000001\n",
    "                            x_IG = 0.15*np.ones(len(p_tmp))\n",
    "                            x_IG[arg_max] = 1 - 0.15*(len(p_tmp)-1)\n",
    "                            #print(x_IG)\n",
    "                            q_IAST_tmp = pyiast.iast(p_tmp,\n",
    "                                                iso_list,adsorbed_mole_fraction_guess = x_IG,\n",
    "                                                warningoff=True)\n",
    "                        except:\n",
    "                            try:\n",
    "                                arg_min = np.argmin(p_tmp)\n",
    "                                p_tmp[p_tmp<0.000001] = 0.000001\n",
    "                                x_IG = 0.01*np.ones(len(p_tmp))\n",
    "                                x_IG[arg_min] = 1 - 0.01*(len(p_tmp)-1)\n",
    "                                #print(x_IG)\n",
    "                                q_IAST_tmp = pyiast.iast(p_tmp,\n",
    "                                            iso_list,adsorbed_mole_fraction_guess = x_IG,\n",
    "                                            warningoff=True)\n",
    "\n",
    "                            except:\n",
    "                                try:\n",
    "                                    arg_max = np.argmax(p_tmp)\n",
    "                                    p_tmp[p_tmp<0.000001] = 0.000001\n",
    "                                    x_IG = 0.01*np.ones(len(p_tmp))\n",
    "                                    x_IG[arg_max] = 1 - 0.01*(len(p_tmp)-1)\n",
    "                                    #print(x_IG)\n",
    "                                    q_IAST_tmp = pyiast.iast(p_tmp,\n",
    "                                                    iso_list,adsorbed_mole_fraction_guess = x_IG,\n",
    "                                                warningoff=True)        \n",
    "                                except:\n",
    "                                    p_tmp[p_tmp<0.000001] = 0.000001\n",
    "                                    x_IG = [0.9999, 0.0001]\n",
    "                                    #print(x_IG)\n",
    "                                    q_IAST_tmp = pyiast.iast(p_tmp,\n",
    "                                                    iso_list,adsorbed_mole_fraction_guess = x_IG,\n",
    "                                                warningoff=True)    \n",
    "           \n",
    "    return q_IAST_tmp"
   ]
  },
  {
   "cell_type": "code",
   "execution_count": 6,
   "metadata": {},
   "outputs": [],
   "source": [
    "def sat_fraction(y_lead,q_lead_array, y_follow,q_follow_array):\n",
    "    q_sat_lead_part, q_sat_lead_tot, q_des_lead = q_lead_array\n",
    "    q_sat_fo, q_des_fo = q_follow_array\n",
    "    numo = y_follow*(q_sat_lead_part - q_des_lead)+y_lead*q_des_fo\n",
    "    denom = y_follow*(q_sat_lead_part - q_sat_lead_tot)+y_lead*q_sat_fo\n",
    "    sat_frac = numo/denom\n",
    "    return sat_frac"
   ]
  },
  {
   "cell_type": "code",
   "execution_count": 7,
   "metadata": {},
   "outputs": [],
   "source": [
    "def x2x(x_ini,P_high,P_low,\n",
    "        iso_input, dH_input, Tref_input, \n",
    "        yfeed,Tfeed):\n",
    "    iso_1 = iso_input[0] # Heavy (CO2 or H2S)\n",
    "    iso_2 = iso_input[1] # Methane (CH4)\n",
    "    iso  = [iso_1,iso_2]\n",
    "    dH_1, dH_2 = dH_input[:2]         # (kJ/mol): Heat of adsorption\n",
    "    dH = np.array([dH_1,dH_2])*1000    # (J/mol): Heat of adsorption \n",
    "    P_low_part = np.array(x_ini)*P_low      # (bar): partial pressure\n",
    "    P_high_part = np.array(yfeed)*P_high    # (bar): partial pressure\n",
    "    ### Uptakes\n",
    "    #print(P_low_part)\n",
    "    P_low_part = np.reshape(P_low_part,len(iso))\n",
    "    q_des = iso_mix(P_low_part,Tfeed,iso,\n",
    "                    dH,Tref_input)\n",
    "    #print(P_high_part)\n",
    "    P_high_part = np.reshape(P_high_part,len(iso))\n",
    "    q_sat_tot = iso_mix(P_high_part,Tfeed,iso,\n",
    "                        dH,Tref_input)\n",
    "    Dq_tot = q_sat_tot-q_des\n",
    "    ### Leading component ?\n",
    "    sat_extent = np.array(yfeed)/Dq_tot # Saturation extent kg/mol\n",
    "    ind_lead_tot = np.argmax(sat_extent)\n",
    "    dq = q_sat_tot - q_des\n",
    "    x_out = dq/(np.sum(dq))\n",
    "    return x_out,ind_lead_tot\n"
   ]
  },
  {
   "cell_type": "code",
   "execution_count": 8,
   "metadata": {},
   "outputs": [],
   "source": [
    "\n",
    "def rec(x_ini,P_high,P_low,\n",
    "        iso_input, dH_input, Tref_input, \n",
    "        yfeed,Tfeed):\n",
    "    def x_err(xx):\n",
    "        x_new,_ = x2x([xx, 1-xx],P_high,P_low,\n",
    "                           iso_input, dH_input, Tref_input, \n",
    "                           yfeed,Tfeed)\n",
    "        return (xx-x_new[0])**2\n",
    "    #sol = optim.minimize(x_err,x_ini,method='COBYLA')\n",
    "    sol = optim.least_squares(x_err,x_ini,bounds = [0,1])\n",
    "    x_sol = sol.x\n",
    "    _,i_lead = x2x([x_sol, 1- x_sol],P_high,P_low,\n",
    "                   iso_input, dH_input, Tref_input, \n",
    "                   yfeed,Tfeed)\n",
    "    #if i_lead  < 0.5:\n",
    "    #    return -1\n",
    "    Recovery = 1-(1-x_sol)/x_sol*yfeed[0]/yfeed[1]\n",
    "    if Recovery < 0 or Recovery > 1:\n",
    "        Recovery = 1-x_sol/(1-x_sol)*yfeed[1]/yfeed[0]\n",
    "    return Recovery, i_lead, x_sol\n",
    "  #  return x_sol, i_lead, x_sol\n",
    "    "
   ]
  },
  {
   "cell_type": "markdown",
   "metadata": {},
   "source": [
    "# Find the Target Adsorbent"
   ]
  },
  {
   "cell_type": "code",
   "execution_count": 9,
   "metadata": {},
   "outputs": [
    {
     "name": "stdout",
     "output_type": "stream",
     "text": [
      "0 IWR-1\n",
      "1 LTL-2\n",
      "2 MOR-1\n",
      "3 SEW-1\n"
     ]
    }
   ],
   "source": [
    "for i in range(len(Names_CO2)):\n",
    "    print(i, Names_CO2[i])"
   ]
  },
  {
   "cell_type": "code",
   "execution_count": 10,
   "metadata": {},
   "outputs": [
    {
     "name": "stdout",
     "output_type": "stream",
     "text": [
      "IWR-1\n",
      "LTL-2\n"
     ]
    }
   ],
   "source": [
    "print(Names_CO2[0])\n",
    "print(Names_CO2[1])"
   ]
  },
  {
   "cell_type": "code",
   "execution_count": 11,
   "metadata": {},
   "outputs": [],
   "source": [
    "ind_targ = 0 # IWR: index = 0\n",
    "bins_targ_CO2 = bins_CO2[ind_targ]\n",
    "bins_targ_H2S = bins_H2S[ind_targ]\n",
    "\n",
    "dH_targ_CO2 = dH_CO2[ind_targ]\n",
    "dH_targ_H2S = dH_H2S[ind_targ]"
   ]
  },
  {
   "cell_type": "markdown",
   "metadata": {},
   "source": [
    "# Import GCMC Data"
   ]
  },
  {
   "cell_type": "code",
   "execution_count": 12,
   "metadata": {},
   "outputs": [],
   "source": [
    "os.chdir(basepath)\n",
    "df_targ = pd.read_csv('GCMC_IWR_CO2_CH4.csv')"
   ]
  },
  {
   "cell_type": "code",
   "execution_count": 13,
   "metadata": {},
   "outputs": [
    {
     "data": {
      "text/html": [
       "<div>\n",
       "<style scoped>\n",
       "    .dataframe tbody tr th:only-of-type {\n",
       "        vertical-align: middle;\n",
       "    }\n",
       "\n",
       "    .dataframe tbody tr th {\n",
       "        vertical-align: top;\n",
       "    }\n",
       "\n",
       "    .dataframe thead th {\n",
       "        text-align: right;\n",
       "    }\n",
       "</style>\n",
       "<table border=\"1\" class=\"dataframe\">\n",
       "  <thead>\n",
       "    <tr style=\"text-align: right;\">\n",
       "      <th></th>\n",
       "      <th>P</th>\n",
       "      <th>CO2</th>\n",
       "      <th>CH4</th>\n",
       "    </tr>\n",
       "  </thead>\n",
       "  <tbody>\n",
       "    <tr>\n",
       "      <th>0</th>\n",
       "      <td>0.0001</td>\n",
       "      <td>0.000026</td>\n",
       "      <td>0.000005</td>\n",
       "    </tr>\n",
       "    <tr>\n",
       "      <th>1</th>\n",
       "      <td>0.0005</td>\n",
       "      <td>0.000183</td>\n",
       "      <td>0.000036</td>\n",
       "    </tr>\n",
       "    <tr>\n",
       "      <th>2</th>\n",
       "      <td>0.0010</td>\n",
       "      <td>0.000332</td>\n",
       "      <td>0.000092</td>\n",
       "    </tr>\n",
       "    <tr>\n",
       "      <th>3</th>\n",
       "      <td>0.0100</td>\n",
       "      <td>0.003269</td>\n",
       "      <td>0.000915</td>\n",
       "    </tr>\n",
       "    <tr>\n",
       "      <th>4</th>\n",
       "      <td>0.0200</td>\n",
       "      <td>0.005800</td>\n",
       "      <td>0.001904</td>\n",
       "    </tr>\n",
       "    <tr>\n",
       "      <th>5</th>\n",
       "      <td>0.0300</td>\n",
       "      <td>0.009312</td>\n",
       "      <td>0.002924</td>\n",
       "    </tr>\n",
       "    <tr>\n",
       "      <th>6</th>\n",
       "      <td>0.0400</td>\n",
       "      <td>0.012144</td>\n",
       "      <td>0.003750</td>\n",
       "    </tr>\n",
       "    <tr>\n",
       "      <th>7</th>\n",
       "      <td>0.0500</td>\n",
       "      <td>0.016242</td>\n",
       "      <td>0.004719</td>\n",
       "    </tr>\n",
       "    <tr>\n",
       "      <th>8</th>\n",
       "      <td>0.0600</td>\n",
       "      <td>0.020680</td>\n",
       "      <td>0.005530</td>\n",
       "    </tr>\n",
       "    <tr>\n",
       "      <th>9</th>\n",
       "      <td>0.0700</td>\n",
       "      <td>0.022308</td>\n",
       "      <td>0.006670</td>\n",
       "    </tr>\n",
       "    <tr>\n",
       "      <th>10</th>\n",
       "      <td>0.0800</td>\n",
       "      <td>0.024334</td>\n",
       "      <td>0.007641</td>\n",
       "    </tr>\n",
       "    <tr>\n",
       "      <th>11</th>\n",
       "      <td>0.0900</td>\n",
       "      <td>0.028681</td>\n",
       "      <td>0.008530</td>\n",
       "    </tr>\n",
       "    <tr>\n",
       "      <th>12</th>\n",
       "      <td>0.1000</td>\n",
       "      <td>0.031480</td>\n",
       "      <td>0.009497</td>\n",
       "    </tr>\n",
       "    <tr>\n",
       "      <th>13</th>\n",
       "      <td>0.3000</td>\n",
       "      <td>0.085910</td>\n",
       "      <td>0.027306</td>\n",
       "    </tr>\n",
       "    <tr>\n",
       "      <th>14</th>\n",
       "      <td>0.5000</td>\n",
       "      <td>0.140124</td>\n",
       "      <td>0.045955</td>\n",
       "    </tr>\n",
       "    <tr>\n",
       "      <th>15</th>\n",
       "      <td>0.7000</td>\n",
       "      <td>0.197677</td>\n",
       "      <td>0.061429</td>\n",
       "    </tr>\n",
       "    <tr>\n",
       "      <th>16</th>\n",
       "      <td>0.9000</td>\n",
       "      <td>0.236161</td>\n",
       "      <td>0.076946</td>\n",
       "    </tr>\n",
       "    <tr>\n",
       "      <th>17</th>\n",
       "      <td>1.0000</td>\n",
       "      <td>0.265106</td>\n",
       "      <td>0.085027</td>\n",
       "    </tr>\n",
       "    <tr>\n",
       "      <th>18</th>\n",
       "      <td>2.0000</td>\n",
       "      <td>0.437216</td>\n",
       "      <td>0.153287</td>\n",
       "    </tr>\n",
       "    <tr>\n",
       "      <th>19</th>\n",
       "      <td>3.0000</td>\n",
       "      <td>0.606085</td>\n",
       "      <td>0.210376</td>\n",
       "    </tr>\n",
       "    <tr>\n",
       "      <th>20</th>\n",
       "      <td>4.0000</td>\n",
       "      <td>0.725854</td>\n",
       "      <td>0.262939</td>\n",
       "    </tr>\n",
       "    <tr>\n",
       "      <th>21</th>\n",
       "      <td>5.0000</td>\n",
       "      <td>0.821711</td>\n",
       "      <td>0.314090</td>\n",
       "    </tr>\n",
       "    <tr>\n",
       "      <th>22</th>\n",
       "      <td>6.0000</td>\n",
       "      <td>0.908688</td>\n",
       "      <td>0.352291</td>\n",
       "    </tr>\n",
       "    <tr>\n",
       "      <th>23</th>\n",
       "      <td>7.0000</td>\n",
       "      <td>0.966298</td>\n",
       "      <td>0.395334</td>\n",
       "    </tr>\n",
       "    <tr>\n",
       "      <th>24</th>\n",
       "      <td>8.0000</td>\n",
       "      <td>1.040296</td>\n",
       "      <td>0.426101</td>\n",
       "    </tr>\n",
       "    <tr>\n",
       "      <th>25</th>\n",
       "      <td>9.0000</td>\n",
       "      <td>1.108201</td>\n",
       "      <td>0.461515</td>\n",
       "    </tr>\n",
       "    <tr>\n",
       "      <th>26</th>\n",
       "      <td>10.0000</td>\n",
       "      <td>1.157709</td>\n",
       "      <td>0.490860</td>\n",
       "    </tr>\n",
       "  </tbody>\n",
       "</table>\n",
       "</div>"
      ],
      "text/plain": [
       "          P       CO2       CH4\n",
       "0    0.0001  0.000026  0.000005\n",
       "1    0.0005  0.000183  0.000036\n",
       "2    0.0010  0.000332  0.000092\n",
       "3    0.0100  0.003269  0.000915\n",
       "4    0.0200  0.005800  0.001904\n",
       "5    0.0300  0.009312  0.002924\n",
       "6    0.0400  0.012144  0.003750\n",
       "7    0.0500  0.016242  0.004719\n",
       "8    0.0600  0.020680  0.005530\n",
       "9    0.0700  0.022308  0.006670\n",
       "10   0.0800  0.024334  0.007641\n",
       "11   0.0900  0.028681  0.008530\n",
       "12   0.1000  0.031480  0.009497\n",
       "13   0.3000  0.085910  0.027306\n",
       "14   0.5000  0.140124  0.045955\n",
       "15   0.7000  0.197677  0.061429\n",
       "16   0.9000  0.236161  0.076946\n",
       "17   1.0000  0.265106  0.085027\n",
       "18   2.0000  0.437216  0.153287\n",
       "19   3.0000  0.606085  0.210376\n",
       "20   4.0000  0.725854  0.262939\n",
       "21   5.0000  0.821711  0.314090\n",
       "22   6.0000  0.908688  0.352291\n",
       "23   7.0000  0.966298  0.395334\n",
       "24   8.0000  1.040296  0.426101\n",
       "25   9.0000  1.108201  0.461515\n",
       "26  10.0000  1.157709  0.490860"
      ]
     },
     "execution_count": 13,
     "metadata": {},
     "output_type": "execute_result"
    }
   ],
   "source": [
    "df_targ"
   ]
  },
  {
   "cell_type": "code",
   "execution_count": 14,
   "metadata": {},
   "outputs": [],
   "source": [
    "p_gcmc_targ = df_targ['P'].to_numpy()\n",
    "\n",
    "#q_h2s_gcmc_targ = df_targ['q_H2S'].to_numpy()\n",
    "q_co2_gcmc_targ = df_targ['CO2'].to_numpy()\n",
    "\n",
    "q_ch4_0_gcmc_targ = df_targ['CH4'].to_numpy()\n",
    "#q_ch4_1_gcmc_targ = df_targ['q_CH4_withH2S'].to_numpy()"
   ]
  },
  {
   "cell_type": "code",
   "execution_count": 15,
   "metadata": {},
   "outputs": [
    {
     "data": {
      "text/plain": [
       "[<matplotlib.lines.Line2D at 0x24cf6fa14c0>]"
      ]
     },
     "execution_count": 15,
     "metadata": {},
     "output_type": "execute_result"
    },
    {
     "data": {
      "image/png": "[encoded data removed]",
      "text/plain": [
       "<Figure size 432x288 with 1 Axes>"
      ]
     },
     "metadata": {
      "needs_background": "light"
     },
     "output_type": "display_data"
    }
   ],
   "source": [
    "#plt.plot(p_gcmc_targ, q_h2s_gcmc_targ)\n",
    "plt.plot(p_gcmc_targ, q_co2_gcmc_targ)"
   ]
  },
  {
   "cell_type": "markdown",
   "metadata": {},
   "source": [
    "# IAST results vs GCMC results"
   ]
  },
  {
   "cell_type": "markdown",
   "metadata": {},
   "source": [
    "## CO2"
   ]
  },
  {
   "cell_type": "code",
   "execution_count": 16,
   "metadata": {},
   "outputs": [
    {
     "data": {
      "text/plain": [
       "<matplotlib.legend.Legend at 0x24cf7043a00>"
      ]
     },
     "execution_count": 16,
     "metadata": {},
     "output_type": "execute_result"
    },
    {
     "data": {
      "image/png": "[encoded data removed]",
      "text/plain": [
       "<Figure size 432x288 with 1 Axes>"
      ]
     },
     "metadata": {
      "needs_background": "light"
     },
     "output_type": "display_data"
    }
   ],
   "source": [
    "T_test = 343\n",
    "q_co2_iast_targ = []\n",
    "for pp in p_gcmc_targ:\n",
    "    iast_res_tmp = iso_mix(np.array([0.5,0.5])*pp,T_test, bins_targ_CO2,dH_targ_CO2*1000, [298.15,298.15])\n",
    "    q_co2_iast_targ.append(iast_res_tmp)\n",
    "q_co2_iast_targ = np.array(q_co2_iast_targ)\n",
    "\n",
    "plt.plot(p_gcmc_targ, q_co2_iast_targ[:,0], label = 'CO2 IAST')\n",
    "plt.plot(p_gcmc_targ, q_co2_iast_targ[:,1], label = 'CH4 IAST')\n",
    "\n",
    "plt.legend()\n"
   ]
  },
  {
   "cell_type": "code",
   "execution_count": 17,
   "metadata": {},
   "outputs": [
    {
     "data": {
      "text/plain": [
       "<matplotlib.legend.Legend at 0x24cf90b3f70>"
      ]
     },
     "execution_count": 17,
     "metadata": {},
     "output_type": "execute_result"
    },
    {
     "data": {
      "image/png": "[encoded data removed]",
      "text/plain": [
       "<Figure size 432x288 with 1 Axes>"
      ]
     },
     "metadata": {
      "needs_background": "light"
     },
     "output_type": "display_data"
    }
   ],
   "source": [
    "## Ratio of gcmc to IAST\n",
    "plt.plot(p_gcmc_targ, q_co2_gcmc_targ/ q_co2_iast_targ[:,0] ,\n",
    "        label = 'IAST to GCMC ratio: CO2') # CO2\n",
    "plt.plot(p_gcmc_targ,q_ch4_0_gcmc_targ /  q_co2_iast_targ[:,1] ,\n",
    "        label = 'IAST to GCMC ratio: CH4') # CH4\n",
    "\n",
    "plt.legend() "
   ]
  },
  {
   "cell_type": "markdown",
   "metadata": {},
   "source": [
    "# BEFORE (CO2)"
   ]
  },
  {
   "cell_type": "code",
   "execution_count": 18,
   "metadata": {},
   "outputs": [
    {
     "data": {
      "text/plain": [
       "[<matplotlib.lines.Line2D at 0x24cfa110760>]"
      ]
     },
     "execution_count": 18,
     "metadata": {},
     "output_type": "execute_result"
    },
    {
     "data": {
      "image/png": "[encoded data removed]",
      "text/plain": [
       "<Figure size 432x288 with 1 Axes>"
      ]
     },
     "metadata": {
      "needs_background": "light"
     },
     "output_type": "display_data"
    },
    {
     "data": {
      "image/png": "[encoded data removed]",
      "text/plain": [
       "<Figure size 432x288 with 1 Axes>"
      ]
     },
     "metadata": {
      "needs_background": "light"
     },
     "output_type": "display_data"
    }
   ],
   "source": [
    "plt.figure()\n",
    "plt.title('No Modification: CO2')\n",
    "plt.plot(p_gcmc_targ, q_co2_gcmc_targ, 'o')\n",
    "plt.plot(p_gcmc_targ, q_co2_iast_targ[:,0])\n",
    "\n",
    "plt.figure()\n",
    "plt.title('No Modification: CH4')\n",
    "plt.plot(p_gcmc_targ, q_ch4_0_gcmc_targ, 'o')\n",
    "#plt.plot(p_gcmc_targ, q_co2_iast_targ[:,1]*5.5*p_gcmc_targ/(1+6*p_gcmc_targ))\n",
    "plt.plot(p_gcmc_targ, q_co2_iast_targ[:,1])"
   ]
  },
  {
   "cell_type": "markdown",
   "metadata": {},
   "source": [
    "# AFTER (CO2)"
   ]
  },
  {
   "cell_type": "markdown",
   "metadata": {},
   "source": [
    "### Roughly"
   ]
  },
  {
   "cell_type": "code",
   "execution_count": 19,
   "metadata": {},
   "outputs": [
    {
     "data": {
      "text/plain": [
       "[<matplotlib.lines.Line2D at 0x24cfa1c1610>]"
      ]
     },
     "execution_count": 19,
     "metadata": {},
     "output_type": "execute_result"
    },
    {
     "data": {
      "image/png": "[encoded data removed]",
      "text/plain": [
       "<Figure size 432x288 with 1 Axes>"
      ]
     },
     "metadata": {
      "needs_background": "light"
     },
     "output_type": "display_data"
    },
    {
     "data": {
      "image/png": "[encoded data removed]",
      "text/plain": [
       "<Figure size 432x288 with 1 Axes>"
      ]
     },
     "metadata": {
      "needs_background": "light"
     },
     "output_type": "display_data"
    }
   ],
   "source": [
    "plt.figure()\n",
    "plt.title('Rough Modification: CO2')\n",
    "plt.plot(p_gcmc_targ, q_co2_gcmc_targ, 'o')\n",
    "plt.plot(p_gcmc_targ, q_co2_iast_targ[:,0]*1.3)\n",
    "\n",
    "plt.figure()\n",
    "plt.title('Rough MOdification: CH4')\n",
    "plt.plot(p_gcmc_targ, q_ch4_0_gcmc_targ, 'o')\n",
    "#plt.plot(p_gcmc_targ, q_co2_iast_targ[:,1]*5.5*p_gcmc_targ/(1+6*p_gcmc_targ))\n",
    "plt.plot(p_gcmc_targ, q_co2_iast_targ[:,1]*0.95)"
   ]
  },
  {
   "cell_type": "markdown",
   "metadata": {},
   "source": [
    "### More Accurately"
   ]
  },
  {
   "cell_type": "code",
   "execution_count": 20,
   "metadata": {},
   "outputs": [
    {
     "name": "stdout",
     "output_type": "stream",
     "text": [
      " active_mask: array([0.])\n",
      "        cost: 9.825340119013786e-05\n",
      "         fun: array([0.01401809])\n",
      "        grad: array([-1.1929842e-07])\n",
      "         jac: array([[-8.51032014e-06]])\n",
      "     message: '`ftol` termination condition is satisfied.'\n",
      "        nfev: 18\n",
      "        njev: 9\n",
      "  optimality: 1.192984199896045e-07\n",
      "      status: 2\n",
      "     success: True\n",
      "           x: array([1.19472372])\n",
      "SUCCESS ? \n",
      "True\n"
     ]
    }
   ],
   "source": [
    "def f_modi_co2(kk):\n",
    "    ret_tmp = kk\n",
    "    return ret_tmp\n",
    "def obj_targ_co2(k):\n",
    "    #diff = q_co2_gcmc_targ - q_co2_iast_targ[:,0]*k\n",
    "    diff = q_co2_gcmc_targ - q_co2_iast_targ[:,0]*f_modi_co2(k)\n",
    "    return np.sum(diff**2)\n",
    "#print(obj_targ_co2(1/1.47))\n",
    "k_list = np.linspace(0.6,0.7)\n",
    "#for kkk in k_list:\n",
    "#    print(kkk)\n",
    "#    print(obj_targ_co2(kkk))\n",
    "#    print()\n",
    "opt_res_co2 = optim.least_squares(obj_targ_co2, 0.65)\n",
    "#opt_res_co2 = optim.least_squares(obj_targ_co2, [1.11,1.5,1.3])\n",
    "print(opt_res_co2)\n",
    "print('SUCCESS ? ')\n",
    "print(opt_res_co2.success)\n",
    "\n"
   ]
  },
  {
   "cell_type": "code",
   "execution_count": 21,
   "metadata": {},
   "outputs": [
    {
     "name": "stdout",
     "output_type": "stream",
     "text": [
      " active_mask: array([0.])\n",
      "        cost: 3.616859624675316e-09\n",
      "         fun: array([8.50512742e-05])\n",
      "        grad: array([-1.57631127e-09])\n",
      "         jac: array([[-1.85336585e-05]])\n",
      "     message: '`gtol` termination condition is satisfied.'\n",
      "        nfev: 13\n",
      "        njev: 8\n",
      "  optimality: 1.57631126969024e-09\n",
      "      status: 1\n",
      "     success: True\n",
      "           x: array([0.93396161])\n"
     ]
    }
   ],
   "source": [
    "def f_modi_ch4_0(kk):\n",
    "    ret_tmp = kk\n",
    "    #ret_tmp = kk[2] - (kk[0]*p_gcmc_targ/(1+kk[1]*p_gcmc_targ))\n",
    "    #ret_tmp = (kk[0]*p_gcmc_targ/(1+kk[1]*p_gcmc_targ))\n",
    "    #ret_tmp = kk[2]/(p_gcmc_targ+kk[0]) + kk[1]\n",
    "    return ret_tmp\n",
    "\n",
    "def obj_targ_ch4_0(k):\n",
    "    diff = q_ch4_0_gcmc_targ - q_co2_iast_targ[:,1]*f_modi_ch4_0(k)\n",
    "    return np.sum(diff**2)\n",
    "#print(obj_targ_co2(1/1.47))\n",
    "k_list = np.linspace(0.6,0.7)\n",
    "#for kkk in k_list:\n",
    "#    print(kkk)\n",
    "#    print(obj_targ_co2(kkk))\n",
    "#    print()\n",
    "opt_res_ch4_0 = optim.least_squares(obj_targ_ch4_0, 0.85)\n",
    "#opt_res_ch4_0 = optim.least_squares(obj_targ_ch4_0, [0.7,1.15])\n",
    "#opt_res_ch4_0 = optim.least_squares(obj_targ_ch4_0, [0.7,0.8, 0.8])\n",
    "print(opt_res_ch4_0)\n"
   ]
  },
  {
   "cell_type": "code",
   "execution_count": 30,
   "metadata": {},
   "outputs": [
    {
     "data": {
      "text/plain": [
       "[<matplotlib.lines.Line2D at 0x24cfcffa340>]"
      ]
     },
     "execution_count": 30,
     "metadata": {},
     "output_type": "execute_result"
    },
    {
     "data": {
      "image/png": "[encoded data removed]",
      "text/plain": [
       "<Figure size 432x288 with 1 Axes>"
      ]
     },
     "metadata": {
      "needs_background": "light"
     },
     "output_type": "display_data"
    },
    {
     "data": {
      "image/png": "[encoded data removed]",
      "text/plain": [
       "<Figure size 432x288 with 1 Axes>"
      ]
     },
     "metadata": {
      "needs_background": "light"
     },
     "output_type": "display_data"
    }
   ],
   "source": [
    "plt.figure()\n",
    "plt.title('More accurate Modification: CO2')\n",
    "plt.plot(p_gcmc_targ, q_co2_gcmc_targ, 'o')\n",
    "#M_co2 = opt_res_co2.x[0]\n",
    "#K_co2 = opt_res_co2.x[1]\n",
    "#f_modi = M_co2 * p_gcmc_targ/(1+ K_co2*p_gcmc_targ)\n",
    "m_modi_co2 = f_modi_co2(opt_res_co2.x)\n",
    "plt.plot(p_gcmc_targ, q_co2_iast_targ[:,0]*m_modi_co2)\n",
    "\n",
    "plt.figure()\n",
    "plt.title('More accurate Modification: CH4')\n",
    "plt.plot(p_gcmc_targ, q_ch4_0_gcmc_targ, 'o')\n",
    "m_modi_ch4_0 = f_modi_ch4_0(opt_res_ch4_0.x)\n",
    "plt.plot(p_gcmc_targ, q_co2_iast_targ[:,1]*m_modi_ch4_0)"
   ]
  },
  {
   "cell_type": "markdown",
   "metadata": {},
   "source": [
    "# Plot in Jaehoon style"
   ]
  },
  {
   "cell_type": "code",
   "execution_count": 33,
   "metadata": {},
   "outputs": [
    {
     "data": {
      "image/png": "[encoded data removed]",
      "text/plain": [
       "<Figure size 648x648 with 1 Axes>"
      ]
     },
     "metadata": {
      "needs_background": "light"
     },
     "output_type": "display_data"
    }
   ],
   "source": [
    "font_size=22\n",
    "\n",
    "plt.figure(figsize=(9,9))\n",
    "plt.tick_params(direction='in',labelsize=18)\n",
    " \n",
    "plt.ylim([0,1.2])\n",
    "plt.xlim([0.0001,10.1])\n",
    "\n",
    "### PLOT\n",
    "## CO2 IAST modi\n",
    "plt.plot(p_gcmc_targ, q_co2_iast_targ[:,0]*m_modi_co2,\n",
    "         c='pink',lw='3',alpha=1,zorder=2,label='CO$_2$ IAST')\n",
    "## CH4 IAST modi\n",
    "plt.plot(p_gcmc_targ, q_co2_iast_targ[:,1]*m_modi_ch4_0,\n",
    "         c='g',lw='3',alpha=1,zorder=2,label='CH$_4$ IAST')\n",
    "## CO2 GCMC\n",
    "plt.scatter(p_gcmc_targ, q_co2_gcmc_targ ,\n",
    "            c='pink',edgecolors='k',s=100,alpha=1,zorder=2,label='CO$_2$ GCMC')\n",
    "## CH$ GCMC\n",
    "plt.scatter(p_gcmc_targ, q_ch4_0_gcmc_targ,c='g',\n",
    "            edgecolors='k',s=100,alpha=1,zorder=2,label='CH$_4$ GCMC')\n",
    "\n",
    "\n",
    "plt.xlabel(r\"Pressure (bar)\",fontsize=font_size)\n",
    "plt.ylabel(r\"Uptake (mmol g$^-$$^1$)\",fontsize=font_size)\n",
    "\n",
    "plt.legend(loc='upper left',fontsize=20)\n",
    "#plt.savefig('./LTL-2.png',dpi=700)\n",
    "\n",
    "plt.show()\n",
    "\n"
   ]
  },
  {
   "cell_type": "code",
   "execution_count": null,
   "metadata": {},
   "outputs": [],
   "source": []
  },
  {
   "cell_type": "markdown",
   "metadata": {},
   "source": [
    "# Functions AGAIN"
   ]
  },
  {
   "cell_type": "markdown",
   "metadata": {},
   "source": [
    "## iso_mix_new"
   ]
  },
  {
   "cell_type": "code",
   "execution_count": 24,
   "metadata": {},
   "outputs": [],
   "source": [
    "Arrh = lambda T,dH ,T_ref: np.exp(-dH/8.3145*(1/T - 1/T_ref)) # Arrhenius equation (Clasius-Clapeyron Equation)\n",
    "\n",
    "## Isothermal mixture isotherm\n",
    "def iso_mix_new(P_par, T, iso_list, dH_list,Tref_list):\n",
    "    P_norm = []\n",
    "    for (p,dh,tref) in zip(P_par, dH_list,Tref_list):\n",
    "        p_n = Arrh(T,dh,tref)*p \n",
    "        P_norm.append(p_n)\n",
    "    P_norm_arr = np.array(P_norm)\n",
    "    #print(P_norm_mat.T)\n",
    "    if P_norm_arr.ndim > 1:\n",
    "        for i in range(len(P_norm[0])):\n",
    "            p_tmp = P_norm_arr[i,:]\n",
    "            p_tmp[p_tmp<0.000001] = 0.000001\n",
    "            q_IAST_tmp = pyiast.iast(p_tmp,\n",
    "                                     iso_list,\n",
    "                                     warningoff=True)\n",
    "    else:\n",
    "        try:\n",
    "            p_tmp = P_norm_arr\n",
    "            p_tmp[p_tmp<0.000001] = 0.000001\n",
    "            #print(p_tmp)\n",
    "            q_IAST_tmp = pyiast.iast(p_tmp,\n",
    "                                    iso_list,\n",
    "                                     warningoff=True)\n",
    "        except:    \n",
    "            try:\n",
    "                #print('Initial guess error with P = ',P_par)\n",
    "                x_IG = np.ones(len(p_tmp))/len(p_tmp)\n",
    "                q_IAST_tmp = pyiast.iast(p_tmp,\n",
    "                                        iso_list,adsorbed_mole_fraction_guess = x_IG,\n",
    "                                        warningoff=True)\n",
    "            except:\n",
    "                try:\n",
    "                    arg_min = np.argmin(p_tmp)\n",
    "                    p_tmp[p_tmp<0.000001] = 0.000001\n",
    "                    x_IG = 0.05*np.ones(len(p_tmp))\n",
    "                    x_IG[arg_min] = 1 - 0.05*(len(p_tmp)-1)\n",
    "                    #print(x_IG)\n",
    "                    q_IAST_tmp = pyiast.iast(p_tmp,\n",
    "                                            iso_list,adsorbed_mole_fraction_guess = x_IG,\n",
    "                                            warningoff=True)\n",
    "\n",
    "                except:\n",
    "                    try:\n",
    "                        arg_max = np.argmax(p_tmp)\n",
    "                        p_tmp[p_tmp<0.000001] = 0.000001\n",
    "                        x_IG = 0.05*np.ones(len(p_tmp))\n",
    "                        x_IG[arg_max] = 1 - 0.05*(len(p_tmp)-1)\n",
    "                        #print(x_IG)\n",
    "                        q_IAST_tmp = pyiast.iast(p_tmp,\n",
    "                                                iso_list,adsorbed_mole_fraction_guess = x_IG,\n",
    "                                                warningoff=True)        \n",
    "                    except:\n",
    "                        try:\n",
    "                            arg_max = np.argmax(p_tmp)\n",
    "                            p_tmp[p_tmp<0.000001] = 0.000001\n",
    "                            x_IG = 0.15*np.ones(len(p_tmp))\n",
    "                            x_IG[arg_max] = 1 - 0.15*(len(p_tmp)-1)\n",
    "                            #print(x_IG)\n",
    "                            q_IAST_tmp = pyiast.iast(p_tmp,\n",
    "                                                iso_list,adsorbed_mole_fraction_guess = x_IG,\n",
    "                                                warningoff=True)\n",
    "                        except:\n",
    "                            try:\n",
    "                                arg_min = np.argmin(p_tmp)\n",
    "                                p_tmp[p_tmp<0.000001] = 0.000001\n",
    "                                x_IG = 0.01*np.ones(len(p_tmp))\n",
    "                                x_IG[arg_min] = 1 - 0.01*(len(p_tmp)-1)\n",
    "                                #print(x_IG)\n",
    "                                q_IAST_tmp = pyiast.iast(p_tmp,\n",
    "                                            iso_list,adsorbed_mole_fraction_guess = x_IG,\n",
    "                                            warningoff=True)\n",
    "\n",
    "                            except:\n",
    "                                try:\n",
    "                                    arg_max = np.argmax(p_tmp)\n",
    "                                    p_tmp[p_tmp<0.000001] = 0.000001\n",
    "                                    x_IG = 0.01*np.ones(len(p_tmp))\n",
    "                                    x_IG[arg_max] = 1 - 0.01*(len(p_tmp)-1)\n",
    "                                    #print(x_IG)\n",
    "                                    q_IAST_tmp = pyiast.iast(p_tmp,\n",
    "                                                    iso_list,adsorbed_mole_fraction_guess = x_IG,\n",
    "                                                warningoff=True)        \n",
    "                                except:\n",
    "                                    p_tmp[p_tmp<0.000001] = 0.000001\n",
    "                                    x_IG = [0.9999, 0.0001]\n",
    "                                    #print(x_IG)\n",
    "                                    q_IAST_tmp = pyiast.iast(p_tmp,\n",
    "                                                    iso_list,adsorbed_mole_fraction_guess = x_IG,\n",
    "                                                warningoff=True)    \n",
    "    q_IAST_tmp = np.array([1.194724*q_IAST_tmp[0],\n",
    "                           0.93396161*q_IAST_tmp[1]])       \n",
    "    return q_IAST_tmp"
   ]
  },
  {
   "cell_type": "markdown",
   "metadata": {},
   "source": [
    "## x2x_new"
   ]
  },
  {
   "cell_type": "code",
   "execution_count": 25,
   "metadata": {},
   "outputs": [],
   "source": [
    "def x2x_new(x_ini,P_high,P_low,\n",
    "        iso_input, dH_input, Tref_input, \n",
    "        yfeed,Tfeed):\n",
    "    iso_1 = iso_input[0] # Heavy (CO2 or H2S)\n",
    "    iso_2 = iso_input[1] # Methane (CH4)\n",
    "    iso  = [iso_1,iso_2]\n",
    "    dH_1, dH_2 = dH_input[:2]         # (kJ/mol): Heat of adsorption\n",
    "    dH = np.array([dH_1,dH_2])*1000    # (J/mol): Heat of adsorption \n",
    "    P_low_part = np.array(x_ini)*P_low      # (bar): partial pressure\n",
    "    P_high_part = np.array(yfeed)*P_high    # (bar): partial pressure\n",
    "    ### Uptakes\n",
    "    #print(P_low_part)\n",
    "    P_low_part = np.reshape(P_low_part,len(iso))\n",
    "    q_des = iso_mix_new(P_low_part,Tfeed,iso,\n",
    "                    dH,Tref_input)\n",
    "    #print(P_high_part)\n",
    "    P_high_part = np.reshape(P_high_part,len(iso))\n",
    "    q_sat_tot = iso_mix_new(P_high_part,Tfeed,iso,\n",
    "                        dH,Tref_input)\n",
    "    Dq_tot = q_sat_tot-q_des\n",
    "    ### Leading component ?\n",
    "    sat_extent = np.array(yfeed)/Dq_tot # Saturation extent kg/mol\n",
    "    ind_lead_tot = np.argmax(sat_extent)\n",
    "    dq = q_sat_tot - q_des\n",
    "    x_out = dq/(np.sum(dq))\n",
    "    return x_out,ind_lead_tot"
   ]
  },
  {
   "cell_type": "markdown",
   "metadata": {},
   "source": [
    "## rec_new"
   ]
  },
  {
   "cell_type": "code",
   "execution_count": 26,
   "metadata": {},
   "outputs": [],
   "source": [
    "def rec_new(x_ini,P_high,P_low,\n",
    "        iso_input, dH_input, Tref_input, \n",
    "        yfeed,Tfeed):\n",
    "    def x_err(xx):\n",
    "        x_new,_ = x2x_new([xx, 1-xx],P_high,P_low,\n",
    "                           iso_input, dH_input, Tref_input, \n",
    "                           yfeed,Tfeed)\n",
    "        return (xx-x_new[0])**2\n",
    "    #sol = optim.minimize(x_err,x_ini,method='COBYLA')\n",
    "    sol = optim.least_squares(x_err,x_ini,bounds = [0,1])\n",
    "    x_sol = sol.x\n",
    "    _,i_lead = x2x_new([x_sol, 1- x_sol],P_high,P_low,\n",
    "                   iso_input, dH_input, Tref_input, \n",
    "                   yfeed,Tfeed)\n",
    "    Recovery = 1-(1-x_sol)/x_sol*yfeed[0]/yfeed[1]\n",
    "    if Recovery < 0 or Recovery > 1:\n",
    "        Recovery = 1-x_sol/(1-x_sol)*yfeed[1]/yfeed[0]\n",
    "    return Recovery, i_lead, x_sol"
   ]
  },
  {
   "cell_type": "markdown",
   "metadata": {},
   "source": [
    "# RUN CO2 VSA"
   ]
  },
  {
   "cell_type": "markdown",
   "metadata": {},
   "source": [
    "## PREVIOUS VSA"
   ]
  },
  {
   "cell_type": "code",
   "execution_count": 34,
   "metadata": {},
   "outputs": [
    {
     "name": "stdout",
     "output_type": "stream",
     "text": [
      "SEW-1\n"
     ]
    }
   ],
   "source": [
    "#P_h_range = np.arange(2.5,50.1,0.5)\n",
    "P_l_range = np.logspace(-3,np.log10(0.5))\n",
    "T_feed_in = 343         # (K) temperature or 298K\n",
    "T_tri = [298.15,]*2\n",
    "#y_feed_in = np.array([0.83356,0.1644])\n",
    "y_meth = 5/10\n",
    "#y_ethy = 0.83356\n",
    "y_feed_in = np.array([1-y_meth,y_meth])\n",
    "Rec_list_set = []\n",
    "leading_index_set = []\n",
    "xx_list_set = []\n",
    "Popt_CO2_list = []\n",
    "#Pl_list = np.linspace(0.004,0.5,30)\n",
    "\n",
    "Rec_list = []\n",
    "leading_index = []\n",
    "xx_list = []\n",
    "x_guess = np.array([0.5,0.5])\n",
    "for pl in P_l_range:\n",
    "    rec_tmp,l_ind,x_tmp = rec(x_guess[0], 1,pl,\n",
    "                              bins_targ_CO2, dH_targ_CO2, T_tri,y_feed_in, T_feed_in)\n",
    "    Rec_list.append(rec_tmp)\n",
    "    leading_index.append(l_ind)\n",
    "    xx_list.append(x_tmp)\n",
    "Rec_list_set.append(Rec_list)\n",
    "leading_index_set.append(leading_index)\n",
    "\n",
    "x_max = np.max(xx_list)\n",
    "\n",
    "print(nam)"
   ]
  },
  {
   "cell_type": "code",
   "execution_count": 35,
   "metadata": {},
   "outputs": [
    {
     "name": "stdout",
     "output_type": "stream",
     "text": [
      "52.54360551711257\n"
     ]
    },
    {
     "data": {
      "image/png": "[encoded data removed]",
      "text/plain": [
       "<Figure size 432x288 with 1 Axes>"
      ]
     },
     "metadata": {
      "needs_background": "light"
     },
     "output_type": "display_data"
    }
   ],
   "source": [
    "plt.plot(Rec_list)\n",
    "print(np.max(Rec_list)*100)"
   ]
  },
  {
   "cell_type": "markdown",
   "metadata": {},
   "source": [
    "## NEW VSA"
   ]
  },
  {
   "cell_type": "code",
   "execution_count": 36,
   "metadata": {},
   "outputs": [
    {
     "name": "stdout",
     "output_type": "stream",
     "text": [
      "SEW-1\n"
     ]
    }
   ],
   "source": [
    "#P_h_range = np.arange(2.5,50.1,0.5)\n",
    "P_l_range = np.logspace(-3,np.log10(0.5))\n",
    "T_feed_in = 343         # (K) temperature or 298K\n",
    "T_tri = [298.15,]*2\n",
    "#y_feed_in = np.array([0.83356,0.1644])\n",
    "y_meth = 5/10\n",
    "#y_ethy = 0.83356\n",
    "y_feed_in = np.array([1-y_meth,y_meth])\n",
    "Rec_list_set = []\n",
    "leading_index_set = []\n",
    "xx_list_set = []\n",
    "Popt_CO2_list = []\n",
    "#Pl_list = np.linspace(0.004,0.5,30)\n",
    "\n",
    "Rec_list = []\n",
    "leading_index = []\n",
    "xx_list = []\n",
    "x_guess = np.array([0.5,0.5])\n",
    "for pl in P_l_range:\n",
    "    rec_tmp,l_ind,x_tmp = rec_new(x_guess[0], 1,pl,\n",
    "                              bins_targ_CO2, dH_targ_CO2, T_tri,y_feed_in, T_feed_in)\n",
    "    Rec_list.append(rec_tmp)\n",
    "    leading_index.append(l_ind)\n",
    "    xx_list.append(x_tmp)\n",
    "Rec_list_set.append(Rec_list)\n",
    "leading_index_set.append(leading_index)\n",
    "\n",
    "x_max = np.max(xx_list)\n",
    "\n",
    "print(nam)"
   ]
  },
  {
   "cell_type": "code",
   "execution_count": 37,
   "metadata": {},
   "outputs": [
    {
     "name": "stdout",
     "output_type": "stream",
     "text": [
      "62.95747704053287\n"
     ]
    },
    {
     "data": {
      "image/png": "[encoded data removed]",
      "text/plain": [
       "<Figure size 432x288 with 1 Axes>"
      ]
     },
     "metadata": {
      "needs_background": "light"
     },
     "output_type": "display_data"
    }
   ],
   "source": [
    "plt.plot(Rec_list)\n",
    "print(np.max(Rec_list)*100)"
   ]
  },
  {
   "cell_type": "code",
   "execution_count": null,
   "metadata": {},
   "outputs": [],
   "source": []
  }
 ],
 "metadata": {
  "kernelspec": {
   "display_name": "Python 3",
   "language": "python",
   "name": "python3"
  },
  "language_info": {
   "codemirror_mode": {
    "name": "ipython",
    "version": 3
   },
   "file_extension": ".py",
   "mimetype": "text/x-python",
   "name": "python",
   "nbconvert_exporter": "python",
   "pygments_lexer": "ipython3",
   "version": "3.8.3"
  },
  "latex_envs": {
   "LaTeX_envs_menu_present": true,
   "autoclose": true,
   "autocomplete": true,
   "bibliofile": "biblio.bib",
   "cite_by": "apalike",
   "current_citInitial": 1,
   "eqLabelWithNumbers": true,
   "eqNumInitial": 1,
   "hotkeys": {
    "equation": "Ctrl-E",
    "itemize": "Ctrl-I"
   },
   "labels_anchors": false,
   "latex_user_defs": false,
   "report_style_numbering": true,
   "user_envs_cfg": false
  },
  "toc": {
   "base_numbering": 1,
   "nav_menu": {},
   "number_sections": true,
   "sideBar": true,
   "skip_h1_title": false,
   "title_cell": "Table of Contents",
   "title_sidebar": "Contents",
   "toc_cell": false,
   "toc_position": {
    "height": "calc(100% - 180px)",
    "left": "10px",
    "top": "150px",
    "width": "349.091px"
   },
   "toc_section_display": true,
   "toc_window_display": true
  },
  "varInspector": {
   "cols": {
    "lenName": 16,
    "lenType": 16,
    "lenVar": 40
   },
   "kernels_config": {
    "python": {
     "delete_cmd_postfix": "",
     "delete_cmd_prefix": "del ",
     "library": "var_list.py",
     "varRefreshCmd": "print(var_dic_list())"
    },
    "r": {
     "delete_cmd_postfix": ") ",
     "delete_cmd_prefix": "rm(",
     "library": "var_list.r",
     "varRefreshCmd": "cat(var_dic_list()) "
    }
   },
   "types_to_exclude": [
    "module",
    "function",
    "builtin_function_or_method",
    "instance",
    "_Feature"
   ],
   "window_display": false
  }
 },
 "nbformat": 4,
 "nbformat_minor": 4
}
