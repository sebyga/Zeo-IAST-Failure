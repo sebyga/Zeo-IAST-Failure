{
 "cells": [
  {
   "cell_type": "markdown",
   "metadata": {},
   "source": [
    "# Import Library"
   ]
  },
  {
   "cell_type": "code",
   "execution_count": 49,
   "metadata": {},
   "outputs": [],
   "source": [
    "import pyiast\n",
    "import pandas as pd\n",
    "import numpy as np\n",
    "import os\n",
    "import matplotlib.pyplot as plt\n",
    "import pickle\n",
    "import time\n",
    "import os\n",
    "import scipy.optimize as optim\n",
    "import matplotlib.pyplot as plt"
   ]
  },
  {
   "cell_type": "markdown",
   "metadata": {},
   "source": [
    "# Import Isotherm Fitting Data"
   ]
  },
  {
   "cell_type": "code",
   "execution_count": 50,
   "metadata": {},
   "outputs": [],
   "source": [
    "basepath = os.getcwd()\n",
    "\n",
    "os.chdir('..')\n",
    "\n",
    "df_NAME=pd.read_csv(\"HEAT_0413.csv\")\n",
    "\n",
    "bins_CO2 = []\n",
    "bins_H2S = []\n",
    "for nam in df_NAME[\"NAME\"]:\n",
    "    f_tmp = open(\"iso_\"+nam+\"_saved.bin\",'rb')\n",
    "    bin_tmp = np.array(pickle.load(f_tmp))\n",
    "    bins_CO2.append(bin_tmp[[False, True, True]]) ## Pick 1 = CO2, 2 = CH4 \n",
    "    f_tmp.close()\n",
    "for nam in df_NAME[\"NAME\"]:\n",
    "    f_tmp = open(\"iso_\"+nam+\"_saved.bin\",'rb') ## 0 = H2S , 1 = CO2, 2 = CH4\n",
    "    bin_tmp = np.array(pickle.load(f_tmp))\n",
    "    bins_H2S.append(bin_tmp[[True, False, True]]) ## Pick 0 = H2S and 2 = CH4\n",
    "    f_tmp.close()\n",
    "\n",
    "Names_CO2=df_NAME[\"NAME\"].to_numpy()\n",
    "Names_H2S=df_NAME[\"NAME\"].to_numpy()\n",
    "dH_CO2 = np.array([df_NAME[\"CO2_Heat\"], df_NAME[\"CH4_Heat\"]]).T\n",
    "dH_H2S = np.array([df_NAME[\"H2S_Heat\"],df_NAME[\"CH4_Heat\"]]).T\n",
    "\n",
    "os.chdir(basepath)"
   ]
  },
  {
   "cell_type": "code",
   "execution_count": 51,
   "metadata": {},
   "outputs": [
    {
     "name": "stdout",
     "output_type": "stream",
     "text": [
      "5\n",
      "5\n",
      "\n",
      "5\n",
      "5\n"
     ]
    }
   ],
   "source": [
    "print(len(Names_H2S))\n",
    "print(len(bins_H2S))\n",
    "print()\n",
    "print(len(Names_CO2))\n",
    "print(len(bins_CO2))"
   ]
  },
  {
   "cell_type": "markdown",
   "metadata": {},
   "source": [
    "# Functions for Isotherms and Ideal PSA"
   ]
  },
  {
   "cell_type": "code",
   "execution_count": 52,
   "metadata": {},
   "outputs": [],
   "source": [
    "Arrh = lambda T,dH ,T_ref: np.exp(-dH/8.3145*(1/T - 1/T_ref)) # Arrhenius equation (Clasius-Clapeyron Equation)\n",
    "\n",
    "## Isothermal mixture isotherm\n",
    "def iso_mix(P_par, T, iso_list, dH_list,Tref_list):\n",
    "    P_norm = []\n",
    "    for (p,dh,tref) in zip(P_par, dH_list,Tref_list):\n",
    "        p_n = Arrh(T,dh,tref)*p \n",
    "        P_norm.append(p_n)\n",
    "    P_norm_arr = np.array(P_norm)\n",
    "    #print(P_norm_mat.T)\n",
    "    if P_norm_arr.ndim > 1:\n",
    "        for i in range(len(P_norm[0])):\n",
    "            p_tmp = P_norm_arr[i,:]\n",
    "            p_tmp[p_tmp<0.000001] = 0.000001\n",
    "            q_IAST_tmp = pyiast.iast(p_tmp,\n",
    "                                     iso_list,\n",
    "                                     warningoff=True)\n",
    "    else:\n",
    "        try:\n",
    "            p_tmp = P_norm_arr\n",
    "            p_tmp[p_tmp<0.000001] = 0.000001\n",
    "            #print(p_tmp)\n",
    "            q_IAST_tmp = pyiast.iast(p_tmp,\n",
    "                                    iso_list,\n",
    "                                     warningoff=True)\n",
    "        except:    \n",
    "            try:\n",
    "                #print('Initial guess error with P = ',P_par)\n",
    "                x_IG = np.ones(len(p_tmp))/len(p_tmp)\n",
    "                q_IAST_tmp = pyiast.iast(p_tmp,\n",
    "                                        iso_list,adsorbed_mole_fraction_guess = x_IG,\n",
    "                                        warningoff=True)\n",
    "            except:\n",
    "                try:\n",
    "                    arg_min = np.argmin(p_tmp)\n",
    "                    p_tmp[p_tmp<0.000001] = 0.000001\n",
    "                    x_IG = 0.05*np.ones(len(p_tmp))\n",
    "                    x_IG[arg_min] = 1 - 0.05*(len(p_tmp)-1)\n",
    "                    #print(x_IG)\n",
    "                    q_IAST_tmp = pyiast.iast(p_tmp,\n",
    "                                            iso_list,adsorbed_mole_fraction_guess = x_IG,\n",
    "                                            warningoff=True)\n",
    "\n",
    "                except:\n",
    "                    try:\n",
    "                        arg_max = np.argmax(p_tmp)\n",
    "                        p_tmp[p_tmp<0.000001] = 0.000001\n",
    "                        x_IG = 0.05*np.ones(len(p_tmp))\n",
    "                        x_IG[arg_max] = 1 - 0.05*(len(p_tmp)-1)\n",
    "                        #print(x_IG)\n",
    "                        q_IAST_tmp = pyiast.iast(p_tmp,\n",
    "                                                iso_list,adsorbed_mole_fraction_guess = x_IG,\n",
    "                                                warningoff=True)        \n",
    "                    except:\n",
    "                        try:\n",
    "                            arg_max = np.argmax(p_tmp)\n",
    "                            p_tmp[p_tmp<0.000001] = 0.000001\n",
    "                            x_IG = 0.15*np.ones(len(p_tmp))\n",
    "                            x_IG[arg_max] = 1 - 0.15*(len(p_tmp)-1)\n",
    "                            #print(x_IG)\n",
    "                            q_IAST_tmp = pyiast.iast(p_tmp,\n",
    "                                                iso_list,adsorbed_mole_fraction_guess = x_IG,\n",
    "                                                warningoff=True)\n",
    "                        except:\n",
    "                            try:\n",
    "                                arg_min = np.argmin(p_tmp)\n",
    "                                p_tmp[p_tmp<0.000001] = 0.000001\n",
    "                                x_IG = 0.01*np.ones(len(p_tmp))\n",
    "                                x_IG[arg_min] = 1 - 0.01*(len(p_tmp)-1)\n",
    "                                #print(x_IG)\n",
    "                                q_IAST_tmp = pyiast.iast(p_tmp,\n",
    "                                            iso_list,adsorbed_mole_fraction_guess = x_IG,\n",
    "                                            warningoff=True)\n",
    "\n",
    "                            except:\n",
    "                                try:\n",
    "                                    arg_max = np.argmax(p_tmp)\n",
    "                                    p_tmp[p_tmp<0.000001] = 0.000001\n",
    "                                    x_IG = 0.01*np.ones(len(p_tmp))\n",
    "                                    x_IG[arg_max] = 1 - 0.01*(len(p_tmp)-1)\n",
    "                                    #print(x_IG)\n",
    "                                    q_IAST_tmp = pyiast.iast(p_tmp,\n",
    "                                                    iso_list,adsorbed_mole_fraction_guess = x_IG,\n",
    "                                                warningoff=True)        \n",
    "                                except:\n",
    "                                    p_tmp[p_tmp<0.000001] = 0.000001\n",
    "                                    x_IG = [0.9999, 0.0001]\n",
    "                                    #print(x_IG)\n",
    "                                    q_IAST_tmp = pyiast.iast(p_tmp,\n",
    "                                                    iso_list,adsorbed_mole_fraction_guess = x_IG,\n",
    "                                                warningoff=True)    \n",
    "           \n",
    "    return q_IAST_tmp"
   ]
  },
  {
   "cell_type": "code",
   "execution_count": 53,
   "metadata": {},
   "outputs": [],
   "source": [
    "def sat_fraction(y_lead,q_lead_array, y_follow,q_follow_array):\n",
    "    q_sat_lead_part, q_sat_lead_tot, q_des_lead = q_lead_array\n",
    "    q_sat_fo, q_des_fo = q_follow_array\n",
    "    numo = y_follow*(q_sat_lead_part - q_des_lead)+y_lead*q_des_fo\n",
    "    denom = y_follow*(q_sat_lead_part - q_sat_lead_tot)+y_lead*q_sat_fo\n",
    "    sat_frac = numo/denom\n",
    "    return sat_frac"
   ]
  },
  {
   "cell_type": "code",
   "execution_count": 54,
   "metadata": {},
   "outputs": [],
   "source": [
    "def x2x(x_ini,P_high,P_low,\n",
    "        iso_input, dH_input, Tref_input, \n",
    "        yfeed,Tfeed):\n",
    "    iso_1 = iso_input[0] # Heavy (CO2 or H2S)\n",
    "    iso_2 = iso_input[1] # Methane (CH4)\n",
    "    iso  = [iso_1,iso_2]\n",
    "    dH_1, dH_2 = dH_input[:2]         # (kJ/mol): Heat of adsorption\n",
    "    dH = np.array([dH_1,dH_2])*1000    # (J/mol): Heat of adsorption \n",
    "    P_low_part = np.array(x_ini)*P_low      # (bar): partial pressure\n",
    "    P_high_part = np.array(yfeed)*P_high    # (bar): partial pressure\n",
    "    ### Uptakes\n",
    "    #print(P_low_part)\n",
    "    P_low_part = np.reshape(P_low_part,len(iso))\n",
    "    q_des = iso_mix(P_low_part,Tfeed,iso,\n",
    "                    dH,Tref_input)\n",
    "    #print(P_high_part)\n",
    "    P_high_part = np.reshape(P_high_part,len(iso))\n",
    "    q_sat_tot = iso_mix(P_high_part,Tfeed,iso,\n",
    "                        dH,Tref_input)\n",
    "    Dq_tot = q_sat_tot-q_des\n",
    "    ### Leading component ?\n",
    "    sat_extent = np.array(yfeed)/Dq_tot # Saturation extent kg/mol\n",
    "    ind_lead_tot = np.argmax(sat_extent)\n",
    "    dq = q_sat_tot - q_des\n",
    "    x_out = dq/(np.sum(dq))\n",
    "    return x_out,ind_lead_tot\n"
   ]
  },
  {
   "cell_type": "code",
   "execution_count": 55,
   "metadata": {},
   "outputs": [],
   "source": [
    "\n",
    "def rec(x_ini,P_high,P_low,\n",
    "        iso_input, dH_input, Tref_input, \n",
    "        yfeed,Tfeed):\n",
    "    def x_err(xx):\n",
    "        x_new,_ = x2x([xx, 1-xx],P_high,P_low,\n",
    "                           iso_input, dH_input, Tref_input, \n",
    "                           yfeed,Tfeed)\n",
    "        return (xx-x_new[0])**2\n",
    "    #sol = optim.minimize(x_err,x_ini,method='COBYLA')\n",
    "    sol = optim.least_squares(x_err,x_ini,bounds = [0,1])\n",
    "    x_sol = sol.x\n",
    "    _,i_lead = x2x([x_sol, 1- x_sol],P_high,P_low,\n",
    "                   iso_input, dH_input, Tref_input, \n",
    "                   yfeed,Tfeed)\n",
    "    #if i_lead  < 0.5:\n",
    "    #    return -1\n",
    "    Recovery = 1-(1-x_sol)/x_sol*yfeed[0]/yfeed[1]\n",
    "    if Recovery < 0 or Recovery > 1:\n",
    "        Recovery = 1-x_sol/(1-x_sol)*yfeed[1]/yfeed[0]\n",
    "    return Recovery, i_lead, x_sol\n",
    "  #  return x_sol, i_lead, x_sol\n",
    "    "
   ]
  },
  {
   "cell_type": "markdown",
   "metadata": {},
   "source": [
    "# Find the Target Adsorbent"
   ]
  },
  {
   "cell_type": "code",
   "execution_count": 56,
   "metadata": {},
   "outputs": [
    {
     "name": "stdout",
     "output_type": "stream",
     "text": [
      "0 AEL-0\n",
      "1 IWR-1\n",
      "2 LTL-2\n",
      "3 MOR-1\n",
      "4 SEW-1\n"
     ]
    }
   ],
   "source": [
    "for i in range(len(Names_H2S)):\n",
    "    print(i, Names_CO2[i])"
   ]
  },
  {
   "cell_type": "code",
   "execution_count": 57,
   "metadata": {},
   "outputs": [
    {
     "name": "stdout",
     "output_type": "stream",
     "text": [
      "MOR-1\n",
      "SEW-1\n"
     ]
    }
   ],
   "source": [
    "print(Names_H2S[3])\n",
    "print(Names_H2S[4])"
   ]
  },
  {
   "cell_type": "code",
   "execution_count": 58,
   "metadata": {},
   "outputs": [],
   "source": [
    "ind_targ = 3 # MOR\n",
    "bins_targ_CO2 = bins_CO2[ind_targ]\n",
    "bins_targ_H2S = bins_H2S[ind_targ]\n",
    "\n",
    "dH_targ_CO2 = dH_CO2[ind_targ]\n",
    "dH_targ_H2S = dH_H2S[ind_targ]"
   ]
  },
  {
   "cell_type": "markdown",
   "metadata": {},
   "source": [
    "# Import GCMC Data"
   ]
  },
  {
   "cell_type": "code",
   "execution_count": 59,
   "metadata": {},
   "outputs": [],
   "source": [
    "os.chdir(basepath)\n",
    "df_targ = pd.read_csv('GCMC_MOR_H2S_CH4.csv')"
   ]
  },
  {
   "cell_type": "code",
   "execution_count": 60,
   "metadata": {},
   "outputs": [
    {
     "data": {
      "text/html": [
       "<div>\n",
       "<style scoped>\n",
       "    .dataframe tbody tr th:only-of-type {\n",
       "        vertical-align: middle;\n",
       "    }\n",
       "\n",
       "    .dataframe tbody tr th {\n",
       "        vertical-align: top;\n",
       "    }\n",
       "\n",
       "    .dataframe thead th {\n",
       "        text-align: right;\n",
       "    }\n",
       "</style>\n",
       "<table border=\"1\" class=\"dataframe\">\n",
       "  <thead>\n",
       "    <tr style=\"text-align: right;\">\n",
       "      <th></th>\n",
       "      <th>P</th>\n",
       "      <th>H2S</th>\n",
       "      <th>CH4</th>\n",
       "    </tr>\n",
       "  </thead>\n",
       "  <tbody>\n",
       "    <tr>\n",
       "      <th>0</th>\n",
       "      <td>0.0001</td>\n",
       "      <td>0.000020</td>\n",
       "      <td>0.000015</td>\n",
       "    </tr>\n",
       "    <tr>\n",
       "      <th>1</th>\n",
       "      <td>0.0005</td>\n",
       "      <td>0.000119</td>\n",
       "      <td>0.000046</td>\n",
       "    </tr>\n",
       "    <tr>\n",
       "      <th>2</th>\n",
       "      <td>0.0010</td>\n",
       "      <td>0.000245</td>\n",
       "      <td>0.000087</td>\n",
       "    </tr>\n",
       "    <tr>\n",
       "      <th>3</th>\n",
       "      <td>0.0100</td>\n",
       "      <td>0.002553</td>\n",
       "      <td>0.001029</td>\n",
       "    </tr>\n",
       "    <tr>\n",
       "      <th>4</th>\n",
       "      <td>0.0200</td>\n",
       "      <td>0.004906</td>\n",
       "      <td>0.001888</td>\n",
       "    </tr>\n",
       "    <tr>\n",
       "      <th>5</th>\n",
       "      <td>0.0300</td>\n",
       "      <td>0.007186</td>\n",
       "      <td>0.002871</td>\n",
       "    </tr>\n",
       "    <tr>\n",
       "      <th>6</th>\n",
       "      <td>0.0400</td>\n",
       "      <td>0.008553</td>\n",
       "      <td>0.003825</td>\n",
       "    </tr>\n",
       "    <tr>\n",
       "      <th>7</th>\n",
       "      <td>0.0500</td>\n",
       "      <td>0.011067</td>\n",
       "      <td>0.004904</td>\n",
       "    </tr>\n",
       "    <tr>\n",
       "      <th>8</th>\n",
       "      <td>0.0600</td>\n",
       "      <td>0.014766</td>\n",
       "      <td>0.005305</td>\n",
       "    </tr>\n",
       "    <tr>\n",
       "      <th>9</th>\n",
       "      <td>0.0700</td>\n",
       "      <td>0.016158</td>\n",
       "      <td>0.006547</td>\n",
       "    </tr>\n",
       "    <tr>\n",
       "      <th>10</th>\n",
       "      <td>0.0800</td>\n",
       "      <td>0.020459</td>\n",
       "      <td>0.007758</td>\n",
       "    </tr>\n",
       "    <tr>\n",
       "      <th>11</th>\n",
       "      <td>0.0900</td>\n",
       "      <td>0.022180</td>\n",
       "      <td>0.008690</td>\n",
       "    </tr>\n",
       "    <tr>\n",
       "      <th>12</th>\n",
       "      <td>0.1000</td>\n",
       "      <td>0.022243</td>\n",
       "      <td>0.009360</td>\n",
       "    </tr>\n",
       "    <tr>\n",
       "      <th>13</th>\n",
       "      <td>0.3000</td>\n",
       "      <td>0.072491</td>\n",
       "      <td>0.028638</td>\n",
       "    </tr>\n",
       "    <tr>\n",
       "      <th>14</th>\n",
       "      <td>0.5000</td>\n",
       "      <td>0.111273</td>\n",
       "      <td>0.047205</td>\n",
       "    </tr>\n",
       "    <tr>\n",
       "      <th>15</th>\n",
       "      <td>0.7000</td>\n",
       "      <td>0.152772</td>\n",
       "      <td>0.062189</td>\n",
       "    </tr>\n",
       "    <tr>\n",
       "      <th>16</th>\n",
       "      <td>0.9000</td>\n",
       "      <td>0.205614</td>\n",
       "      <td>0.080598</td>\n",
       "    </tr>\n",
       "    <tr>\n",
       "      <th>17</th>\n",
       "      <td>1.0000</td>\n",
       "      <td>0.208837</td>\n",
       "      <td>0.090114</td>\n",
       "    </tr>\n",
       "    <tr>\n",
       "      <th>18</th>\n",
       "      <td>2.0000</td>\n",
       "      <td>0.366849</td>\n",
       "      <td>0.165088</td>\n",
       "    </tr>\n",
       "    <tr>\n",
       "      <th>19</th>\n",
       "      <td>3.0000</td>\n",
       "      <td>0.492949</td>\n",
       "      <td>0.224737</td>\n",
       "    </tr>\n",
       "    <tr>\n",
       "      <th>20</th>\n",
       "      <td>4.0000</td>\n",
       "      <td>0.616806</td>\n",
       "      <td>0.268899</td>\n",
       "    </tr>\n",
       "    <tr>\n",
       "      <th>21</th>\n",
       "      <td>5.0000</td>\n",
       "      <td>0.706077</td>\n",
       "      <td>0.317565</td>\n",
       "    </tr>\n",
       "    <tr>\n",
       "      <th>22</th>\n",
       "      <td>6.0000</td>\n",
       "      <td>0.788623</td>\n",
       "      <td>0.360851</td>\n",
       "    </tr>\n",
       "    <tr>\n",
       "      <th>23</th>\n",
       "      <td>7.0000</td>\n",
       "      <td>0.850111</td>\n",
       "      <td>0.399409</td>\n",
       "    </tr>\n",
       "    <tr>\n",
       "      <th>24</th>\n",
       "      <td>8.0000</td>\n",
       "      <td>0.859876</td>\n",
       "      <td>0.447076</td>\n",
       "    </tr>\n",
       "    <tr>\n",
       "      <th>25</th>\n",
       "      <td>9.0000</td>\n",
       "      <td>0.918669</td>\n",
       "      <td>0.473372</td>\n",
       "    </tr>\n",
       "    <tr>\n",
       "      <th>26</th>\n",
       "      <td>10.0000</td>\n",
       "      <td>0.971138</td>\n",
       "      <td>0.505986</td>\n",
       "    </tr>\n",
       "  </tbody>\n",
       "</table>\n",
       "</div>"
      ],
      "text/plain": [
       "          P       H2S       CH4\n",
       "0    0.0001  0.000020  0.000015\n",
       "1    0.0005  0.000119  0.000046\n",
       "2    0.0010  0.000245  0.000087\n",
       "3    0.0100  0.002553  0.001029\n",
       "4    0.0200  0.004906  0.001888\n",
       "5    0.0300  0.007186  0.002871\n",
       "6    0.0400  0.008553  0.003825\n",
       "7    0.0500  0.011067  0.004904\n",
       "8    0.0600  0.014766  0.005305\n",
       "9    0.0700  0.016158  0.006547\n",
       "10   0.0800  0.020459  0.007758\n",
       "11   0.0900  0.022180  0.008690\n",
       "12   0.1000  0.022243  0.009360\n",
       "13   0.3000  0.072491  0.028638\n",
       "14   0.5000  0.111273  0.047205\n",
       "15   0.7000  0.152772  0.062189\n",
       "16   0.9000  0.205614  0.080598\n",
       "17   1.0000  0.208837  0.090114\n",
       "18   2.0000  0.366849  0.165088\n",
       "19   3.0000  0.492949  0.224737\n",
       "20   4.0000  0.616806  0.268899\n",
       "21   5.0000  0.706077  0.317565\n",
       "22   6.0000  0.788623  0.360851\n",
       "23   7.0000  0.850111  0.399409\n",
       "24   8.0000  0.859876  0.447076\n",
       "25   9.0000  0.918669  0.473372\n",
       "26  10.0000  0.971138  0.505986"
      ]
     },
     "execution_count": 60,
     "metadata": {},
     "output_type": "execute_result"
    }
   ],
   "source": [
    "df_targ"
   ]
  },
  {
   "cell_type": "code",
   "execution_count": 61,
   "metadata": {},
   "outputs": [],
   "source": [
    "p_gcmc_targ = df_targ['P'].to_numpy()\n",
    "\n",
    "q_h2s_gcmc_targ = df_targ['H2S'].to_numpy()\n",
    "#q_co2_gcmc_targ = df_targ['q_CO2'].to_numpy()\n",
    "\n",
    "#q_ch4_0_gcmc_targ = df_targ['CH4'].to_numpy()\n",
    "q_ch4_1_gcmc_targ = df_targ['CH4'].to_numpy()"
   ]
  },
  {
   "cell_type": "code",
   "execution_count": 62,
   "metadata": {},
   "outputs": [
    {
     "data": {
      "text/plain": [
       "[<matplotlib.lines.Line2D at 0x1f21477c7c0>]"
      ]
     },
     "execution_count": 62,
     "metadata": {},
     "output_type": "execute_result"
    },
    {
     "data": {
      "image/png": "[encoded data removed]",
      "text/plain": [
       "<Figure size 432x288 with 1 Axes>"
      ]
     },
     "metadata": {
      "needs_background": "light"
     },
     "output_type": "display_data"
    }
   ],
   "source": [
    "plt.plot(p_gcmc_targ, q_h2s_gcmc_targ)\n",
    "#plt.plot(p_gcmc_targ, q_co2_gcmc_targ)"
   ]
  },
  {
   "cell_type": "markdown",
   "metadata": {},
   "source": [
    "# IAST results vs GCMC results"
   ]
  },
  {
   "cell_type": "markdown",
   "metadata": {},
   "source": [
    "## H2S"
   ]
  },
  {
   "cell_type": "code",
   "execution_count": 63,
   "metadata": {},
   "outputs": [
    {
     "data": {
      "text/plain": [
       "<matplotlib.legend.Legend at 0x1f213ee56d0>"
      ]
     },
     "execution_count": 63,
     "metadata": {},
     "output_type": "execute_result"
    },
    {
     "data": {
      "image/png": "[encoded data removed]",
      "text/plain": [
       "<Figure size 432x288 with 1 Axes>"
      ]
     },
     "metadata": {
      "needs_background": "light"
     },
     "output_type": "display_data"
    }
   ],
   "source": [
    "T_test = 343\n",
    "q_h2s_iast_targ = []\n",
    "for pp in p_gcmc_targ:\n",
    "    iast_res_tmp = iso_mix(np.array([0.5,0.5])*pp,T_test, bins_targ_H2S,dH_targ_H2S*1000, [298.15,298.15])\n",
    "    q_h2s_iast_targ.append(iast_res_tmp)\n",
    "q_h2s_iast_targ = np.array(q_h2s_iast_targ)\n",
    "\n",
    "plt.plot(p_gcmc_targ, q_h2s_iast_targ[:,0], label = 'H2S IAST')\n",
    "plt.plot(p_gcmc_targ, q_h2s_iast_targ[:,1], label = 'CH4 IAST')\n",
    "\n",
    "plt.legend()\n"
   ]
  },
  {
   "cell_type": "code",
   "execution_count": 64,
   "metadata": {},
   "outputs": [
    {
     "data": {
      "text/plain": [
       "<matplotlib.legend.Legend at 0x1f213f0b7f0>"
      ]
     },
     "execution_count": 64,
     "metadata": {},
     "output_type": "execute_result"
    },
    {
     "data": {
      "image/png": "[encoded data removed]",
      "text/plain": [
       "<Figure size 432x288 with 1 Axes>"
      ]
     },
     "metadata": {
      "needs_background": "light"
     },
     "output_type": "display_data"
    }
   ],
   "source": [
    "## Ratio of gcmc to IAST\n",
    "plt.plot(p_gcmc_targ, q_h2s_gcmc_targ/ q_h2s_iast_targ[:,0] ,\n",
    "        label = 'IAST to GCMC ratio: H2S') # H2S\n",
    "plt.plot(p_gcmc_targ,q_ch4_1_gcmc_targ /  q_h2s_iast_targ[:,1] ,\n",
    "        label = 'IAST to GCMC ratio: CH4') # CH4\n",
    "\n",
    "plt.legend() "
   ]
  },
  {
   "cell_type": "markdown",
   "metadata": {},
   "source": [
    "# BEFORE (H2S)"
   ]
  },
  {
   "cell_type": "code",
   "execution_count": 65,
   "metadata": {},
   "outputs": [
    {
     "data": {
      "text/plain": [
       "[<matplotlib.lines.Line2D at 0x1f21452ef10>]"
      ]
     },
     "execution_count": 65,
     "metadata": {},
     "output_type": "execute_result"
    },
    {
     "data": {
      "image/png": "[encoded data removed]",
      "text/plain": [
       "<Figure size 432x288 with 1 Axes>"
      ]
     },
     "metadata": {
      "needs_background": "light"
     },
     "output_type": "display_data"
    },
    {
     "data": {
      "image/png": "[encoded data removed]",
      "text/plain": [
       "<Figure size 432x288 with 1 Axes>"
      ]
     },
     "metadata": {
      "needs_background": "light"
     },
     "output_type": "display_data"
    }
   ],
   "source": [
    "plt.figure()\n",
    "plt.title('No Modification: H2S')\n",
    "plt.plot(p_gcmc_targ, q_h2s_gcmc_targ, 'o')\n",
    "plt.plot(p_gcmc_targ, q_h2s_iast_targ[:,0])\n",
    "\n",
    "plt.figure()\n",
    "plt.title('No Modification: CH4')\n",
    "plt.plot(p_gcmc_targ, q_ch4_1_gcmc_targ, 'o')\n",
    "#plt.plot(p_gcmc_targ, q_co2_iast_targ[:,1]*5.5*p_gcmc_targ/(1+6*p_gcmc_targ))\n",
    "plt.plot(p_gcmc_targ, q_h2s_iast_targ[:,1])"
   ]
  },
  {
   "cell_type": "markdown",
   "metadata": {},
   "source": [
    "# AFTER (H2S)"
   ]
  },
  {
   "cell_type": "markdown",
   "metadata": {},
   "source": [
    "## Roughly"
   ]
  },
  {
   "cell_type": "code",
   "execution_count": 66,
   "metadata": {},
   "outputs": [
    {
     "data": {
      "text/plain": [
       "[<matplotlib.lines.Line2D at 0x1f2141aaca0>]"
      ]
     },
     "execution_count": 66,
     "metadata": {},
     "output_type": "execute_result"
    },
    {
     "data": {
      "image/png": "[encoded data removed]",
      "text/plain": [
       "<Figure size 432x288 with 1 Axes>"
      ]
     },
     "metadata": {
      "needs_background": "light"
     },
     "output_type": "display_data"
    },
    {
     "data": {
      "image/png": "[encoded data removed]",
      "text/plain": [
       "<Figure size 432x288 with 1 Axes>"
      ]
     },
     "metadata": {
      "needs_background": "light"
     },
     "output_type": "display_data"
    }
   ],
   "source": [
    "plt.figure()\n",
    "plt.title('Rough Modification: H2S')\n",
    "plt.plot(p_gcmc_targ, q_h2s_gcmc_targ, 'o')\n",
    "plt.plot(p_gcmc_targ, q_h2s_iast_targ[:,0]*1.12)\n",
    "\n",
    "plt.figure()\n",
    "plt.title('Rough MOdification: CH4')\n",
    "plt.plot(p_gcmc_targ, q_ch4_1_gcmc_targ, 'o')\n",
    "#plt.plot(p_gcmc_targ, q_co2_iast_targ[:,1]*5.5*p_gcmc_targ/(1+6*p_gcmc_targ))\n",
    "plt.plot(p_gcmc_targ, q_h2s_iast_targ[:,1]*1.05)"
   ]
  },
  {
   "cell_type": "markdown",
   "metadata": {},
   "source": [
    "## More Accurately"
   ]
  },
  {
   "cell_type": "markdown",
   "metadata": {},
   "source": [
    "### H2S"
   ]
  },
  {
   "cell_type": "code",
   "execution_count": 67,
   "metadata": {},
   "outputs": [
    {
     "name": "stdout",
     "output_type": "stream",
     "text": [
      " active_mask: array([0.])\n",
      "        cost: 2.76465608480393e-06\n",
      "         fun: array([0.00235145])\n",
      "        grad: array([1.12481268e-08])\n",
      "         jac: array([[4.78348756e-06]])\n",
      "     message: '`ftol` termination condition is satisfied.'\n",
      "        nfev: 20\n",
      "        njev: 11\n",
      "  optimality: 1.1248126812611235e-08\n",
      "      status: 2\n",
      "     success: True\n",
      "           x: array([1.12052016])\n",
      "SUCCESS ? \n",
      "True\n"
     ]
    }
   ],
   "source": [
    "def f_modi_h2s(kk):\n",
    "    ret_tmp = kk\n",
    "    #ret_tmp = kk[0]*p_gcmc_targ*0.5*(1+kk[1]*p_gcmc_targ*0.5)/(1+kk[2]*p_gcmc_targ*0.5)\n",
    "    #ret_tmp = kk[0]*p_gcmc_targ/(1+kk[1]*p_gcmc_targ)\n",
    "    #ret_tmp = kk[0]*p_gcmc_targ\n",
    "    #ret_tmp = kk[1]*p_gcmc_targ+kk[0]\n",
    "    #ret_tmp = kk[1]*np.sqrt(p_gcmc_targ)+kk[0]\n",
    "    #ret_tmp = 0.6+kk[0]*p_gcmc_targ/(1+kk[1]*p_gcmc_targ)\n",
    "    #ret_tmp = kk[0] + kk[1]*p_gcmc_targ + kk[2]*p_gcmc_targ**2\n",
    "    return ret_tmp\n",
    "def obj_targ_h2s(k):\n",
    "    #diff = q_co2_gcmc_targ - q_co2_iast_targ[:,0]*k\n",
    "    diff = q_h2s_gcmc_targ - q_h2s_iast_targ[:,0]*f_modi_h2s(k)\n",
    "    #diff = q_h2s_gcmc_targ - f_modi_h2s(k)\n",
    "    return np.sum(diff**2)\n",
    "\n",
    "opt_res_h2s = optim.least_squares(obj_targ_h2s, 0.65)\n",
    "#opt_res_h2s = optim.fmin_cg(obj_targ_h2s, [2,2])\n",
    "#opt_res_h2s = optim.least_squares(obj_targ_h2s, [2,2,2])\n",
    "#opt_res_h2s = optim.minimize(obj_targ_h2s, [2,2,2],bounds = [[0,10],[0,10],[0,10],])\n",
    "#opt_res_h2s = optim.minimize(obj_targ_h2s, [1,1],bounds = [[0,10],[0,10]])\n",
    "#opt_res_h2s = optim.minimize(obj_targ_h2s, [1,4,6],method='Nelder-Mead')\n",
    "print(opt_res_h2s)\n",
    "print('SUCCESS ? ')\n",
    "print(opt_res_h2s.success)"
   ]
  },
  {
   "cell_type": "markdown",
   "metadata": {},
   "source": [
    "### CH4"
   ]
  },
  {
   "cell_type": "code",
   "execution_count": 68,
   "metadata": {},
   "outputs": [
    {
     "name": "stdout",
     "output_type": "stream",
     "text": [
      " active_mask: array([0.])\n",
      "        cost: 2.2992690990722092e-07\n",
      "         fun: array([0.00067813])\n",
      "        grad: array([-8.39416491e-09])\n",
      "         jac: array([[-1.23784879e-05]])\n",
      "     message: '`gtol` termination condition is satisfied.'\n",
      "        nfev: 16\n",
      "        njev: 10\n",
      "  optimality: 8.394164906102401e-09\n",
      "      status: 1\n",
      "     success: True\n",
      "           x: array([1.05817984])\n"
     ]
    }
   ],
   "source": [
    "def f_modi_ch4_1(kk):\n",
    "    ret_tmp = kk\n",
    "    #ret_tmp = kk[2] - (kk[0]*p_gcmc_targ/(1+kk[1]*p_gcmc_targ))\n",
    "    #ret_tmp = (kk[0]*p_gcmc_targ/(1+kk[1]*p_gcmc_targ))\n",
    "    #ret_tmp = kk[2]/(p_gcmc_targ+kk[0]) + kk[1]\n",
    "    #ret_tmp = kk[0]*p_gcmc_targ*0.5*(1+kk[1]*p_gcmc_targ*0.5)/(1+kk[2]*p_gcmc_targ*0.5)\n",
    "    return ret_tmp\n",
    "\n",
    "def obj_targ_ch4_1(k):\n",
    "    diff = q_ch4_1_gcmc_targ - q_h2s_iast_targ[:,1]*f_modi_ch4_1(k)\n",
    "    return np.sum(diff**2)\n",
    "#print(obj_targ_co2(1/1.47))\n",
    "k_list = np.linspace(0.6,0.7)\n",
    "#for kkk in k_list:\n",
    "#    print(kkk)\n",
    "#    print(obj_targ_co2(kkk))\n",
    "#    print()\n",
    "opt_res_ch4_1 = optim.least_squares(obj_targ_ch4_1, 0.85)\n",
    "#opt_res_ch4_1 = optim.least_squares(obj_targ_ch4_0, [0.7,1.15])\n",
    "#opt_res_ch4_1 = optim.least_squares(obj_targ_ch4_0, [0.7,0.8, 0.8])\n",
    "#opt_res_ch4_1 = optim.minimize(obj_targ_ch4_1, [80,0.1,80],method='Nelder-Mead')\n",
    "print(opt_res_ch4_1)"
   ]
  },
  {
   "cell_type": "markdown",
   "metadata": {},
   "source": [
    "### Graphs"
   ]
  },
  {
   "cell_type": "code",
   "execution_count": 69,
   "metadata": {},
   "outputs": [
    {
     "data": {
      "text/plain": [
       "[<matplotlib.lines.Line2D at 0x1f211494940>]"
      ]
     },
     "execution_count": 69,
     "metadata": {},
     "output_type": "execute_result"
    },
    {
     "data": {
      "image/png": "[encoded data removed]",
      "text/plain": [
       "<Figure size 432x288 with 1 Axes>"
      ]
     },
     "metadata": {
      "needs_background": "light"
     },
     "output_type": "display_data"
    },
    {
     "data": {
      "image/png": "[encoded data removed]",
      "text/plain": [
       "<Figure size 432x288 with 1 Axes>"
      ]
     },
     "metadata": {
      "needs_background": "light"
     },
     "output_type": "display_data"
    }
   ],
   "source": [
    "plt.figure()\n",
    "plt.title('More accurate Modification: H2S')\n",
    "plt.plot(p_gcmc_targ, q_h2s_gcmc_targ, 'o')\n",
    "#M_co2 = opt_res_co2.x[0]\n",
    "#K_co2 = opt_res_co2.x[1]\n",
    "#f_modi = M_co2 * p_gcmc_targ/(1+ K_co2*p_gcmc_targ)\n",
    "m_modi_h2s = f_modi_h2s(opt_res_h2s.x)\n",
    "plt.plot(p_gcmc_targ, q_h2s_iast_targ[:,0]*m_modi_h2s)\n",
    "#plt.plot(p_gcmc_targ, m_modi_h2s)\n",
    "\n",
    "plt.figure()\n",
    "plt.title('More accurate Modification: CH4')\n",
    "plt.plot(p_gcmc_targ, q_ch4_1_gcmc_targ, 'o')\n",
    "#M_co2 = opt_res_co2.x[0]\n",
    "#K_co2 = opt_res_co2.x[1]\n",
    "#f_modi = M_co2 * p_gcmc_targ/(1+ K_co2*p_gcmc_targ)\n",
    "#f_modi_ch4_0 = opt_res_ch4_0.x\n",
    "m_modi_ch4_1 = f_modi_ch4_1(opt_res_ch4_1.x)\n",
    "plt.plot(p_gcmc_targ, q_h2s_iast_targ[:,1]*m_modi_ch4_1)"
   ]
  },
  {
   "cell_type": "markdown",
   "metadata": {},
   "source": [
    "# Plot in Jaehoon Style"
   ]
  },
  {
   "cell_type": "code",
   "execution_count": 72,
   "metadata": {},
   "outputs": [
    {
     "data": {
      "image/png": "[encoded data removed]",
      "text/plain": [
       "<Figure size 648x648 with 1 Axes>"
      ]
     },
     "metadata": {
      "needs_background": "light"
     },
     "output_type": "display_data"
    }
   ],
   "source": [
    "font_size=22\n",
    "\n",
    "plt.figure(figsize=(9,9))\n",
    "plt.tick_params(direction='in',labelsize=18)\n",
    " \n",
    "plt.ylim([0,1.2])\n",
    "plt.xlim([0.0001,10.1])\n",
    "\n",
    "### PLOT\n",
    "## CO2 IAST modi\n",
    "plt.plot(p_gcmc_targ, q_h2s_iast_targ[:,0],\n",
    "         c='pink',lw='3',alpha=1,zorder=2,label='H$_2$S IAST')\n",
    "## CH4 IAST modi\n",
    "plt.plot(p_gcmc_targ, q_h2s_iast_targ[:,1],\n",
    "         c='g',lw='3',alpha=1,zorder=2,label='CH$_4$ IAST')\n",
    "## CO2 GCMC\n",
    "plt.scatter(p_gcmc_targ, q_h2s_gcmc_targ ,\n",
    "            c='pink',edgecolors='k',s=100,alpha=1,zorder=2,label='H$_2$S GCMC')\n",
    "## CH$ GCMC\n",
    "plt.scatter(p_gcmc_targ, q_ch4_1_gcmc_targ,c='g',\n",
    "            edgecolors='k',s=100,alpha=1,zorder=2,label='CH$_4$ GCMC')\n",
    "\n",
    "\n",
    "plt.xlabel(r\"Pressure (bar)\",fontsize=font_size)\n",
    "plt.ylabel(r\"Uptake (mmol g$^-$$^1$)\",fontsize=font_size)\n",
    "\n",
    "plt.legend(loc='upper left',fontsize=20)\n",
    "#plt.savefig('./LTL-2.png',dpi=700)\n",
    "\n",
    "plt.show()"
   ]
  },
  {
   "cell_type": "code",
   "execution_count": null,
   "metadata": {},
   "outputs": [],
   "source": []
  },
  {
   "cell_type": "markdown",
   "metadata": {},
   "source": [
    "# Functions AGAIN"
   ]
  },
  {
   "cell_type": "markdown",
   "metadata": {},
   "source": [
    "## iso_mix_new"
   ]
  },
  {
   "cell_type": "code",
   "execution_count": 39,
   "metadata": {},
   "outputs": [],
   "source": [
    "Arrh = lambda T,dH ,T_ref: np.exp(-dH/8.3145*(1/T - 1/T_ref)) # Arrhenius equation (Clasius-Clapeyron Equation)\n",
    "\n",
    "## Isothermal mixture isotherm\n",
    "def iso_mix_new(P_par, T, iso_list, dH_list,Tref_list):\n",
    "    P_norm = []\n",
    "    for (p,dh,tref) in zip(P_par, dH_list,Tref_list):\n",
    "        p_n = Arrh(T,dh,tref)*p \n",
    "        P_norm.append(p_n)\n",
    "    P_norm_arr = np.array(P_norm)\n",
    "    #print(P_norm_mat.T)\n",
    "    if P_norm_arr.ndim > 1:\n",
    "        for i in range(len(P_norm[0])):\n",
    "            p_tmp = P_norm_arr[i,:]\n",
    "            p_tmp[p_tmp<0.000001] = 0.000001\n",
    "            q_IAST_tmp = pyiast.iast(p_tmp,\n",
    "                                     iso_list,\n",
    "                                     warningoff=True)\n",
    "    else:\n",
    "        try:\n",
    "            p_tmp = P_norm_arr\n",
    "            p_tmp[p_tmp<0.000001] = 0.000001\n",
    "            #print(p_tmp)\n",
    "            q_IAST_tmp = pyiast.iast(p_tmp,\n",
    "                                    iso_list,\n",
    "                                     warningoff=True)\n",
    "        except:    \n",
    "            try:\n",
    "                #print('Initial guess error with P = ',P_par)\n",
    "                x_IG = np.ones(len(p_tmp))/len(p_tmp)\n",
    "                q_IAST_tmp = pyiast.iast(p_tmp,\n",
    "                                        iso_list,adsorbed_mole_fraction_guess = x_IG,\n",
    "                                        warningoff=True)\n",
    "            except:\n",
    "                try:\n",
    "                    arg_min = np.argmin(p_tmp)\n",
    "                    p_tmp[p_tmp<0.000001] = 0.000001\n",
    "                    x_IG = 0.05*np.ones(len(p_tmp))\n",
    "                    x_IG[arg_min] = 1 - 0.05*(len(p_tmp)-1)\n",
    "                    #print(x_IG)\n",
    "                    q_IAST_tmp = pyiast.iast(p_tmp,\n",
    "                                            iso_list,adsorbed_mole_fraction_guess = x_IG,\n",
    "                                            warningoff=True)\n",
    "\n",
    "                except:\n",
    "                    try:\n",
    "                        arg_max = np.argmax(p_tmp)\n",
    "                        p_tmp[p_tmp<0.000001] = 0.000001\n",
    "                        x_IG = 0.05*np.ones(len(p_tmp))\n",
    "                        x_IG[arg_max] = 1 - 0.05*(len(p_tmp)-1)\n",
    "                        #print(x_IG)\n",
    "                        q_IAST_tmp = pyiast.iast(p_tmp,\n",
    "                                                iso_list,adsorbed_mole_fraction_guess = x_IG,\n",
    "                                                warningoff=True)        \n",
    "                    except:\n",
    "                        try:\n",
    "                            arg_max = np.argmax(p_tmp)\n",
    "                            p_tmp[p_tmp<0.000001] = 0.000001\n",
    "                            x_IG = 0.15*np.ones(len(p_tmp))\n",
    "                            x_IG[arg_max] = 1 - 0.15*(len(p_tmp)-1)\n",
    "                            #print(x_IG)\n",
    "                            q_IAST_tmp = pyiast.iast(p_tmp,\n",
    "                                                iso_list,adsorbed_mole_fraction_guess = x_IG,\n",
    "                                                warningoff=True)\n",
    "                        except:\n",
    "                            try:\n",
    "                                arg_min = np.argmin(p_tmp)\n",
    "                                p_tmp[p_tmp<0.000001] = 0.000001\n",
    "                                x_IG = 0.01*np.ones(len(p_tmp))\n",
    "                                x_IG[arg_min] = 1 - 0.01*(len(p_tmp)-1)\n",
    "                                #print(x_IG)\n",
    "                                q_IAST_tmp = pyiast.iast(p_tmp,\n",
    "                                            iso_list,adsorbed_mole_fraction_guess = x_IG,\n",
    "                                            warningoff=True)\n",
    "\n",
    "                            except:\n",
    "                                try:\n",
    "                                    arg_max = np.argmax(p_tmp)\n",
    "                                    p_tmp[p_tmp<0.000001] = 0.000001\n",
    "                                    x_IG = 0.01*np.ones(len(p_tmp))\n",
    "                                    x_IG[arg_max] = 1 - 0.01*(len(p_tmp)-1)\n",
    "                                    #print(x_IG)\n",
    "                                    q_IAST_tmp = pyiast.iast(p_tmp,\n",
    "                                                    iso_list,adsorbed_mole_fraction_guess = x_IG,\n",
    "                                                warningoff=True)        \n",
    "                                except:\n",
    "                                    p_tmp[p_tmp<0.000001] = 0.000001\n",
    "                                    x_IG = [0.9999, 0.0001]\n",
    "                                    #print(x_IG)\n",
    "                                    q_IAST_tmp = pyiast.iast(p_tmp,\n",
    "                                                    iso_list,adsorbed_mole_fraction_guess = x_IG,\n",
    "                                                warningoff=True)    \n",
    "    q_IAST_tmp = np.array([1.12052*q_IAST_tmp[0],\n",
    "                           1.05817*q_IAST_tmp[1]])       \n",
    "    return q_IAST_tmp"
   ]
  },
  {
   "cell_type": "markdown",
   "metadata": {},
   "source": [
    "## x2x_new"
   ]
  },
  {
   "cell_type": "code",
   "execution_count": 40,
   "metadata": {},
   "outputs": [],
   "source": [
    "def x2x_new(x_ini,P_high,P_low,\n",
    "        iso_input, dH_input, Tref_input, \n",
    "        yfeed,Tfeed):\n",
    "    iso_1 = iso_input[0] # Heavy (CO2 or H2S)\n",
    "    iso_2 = iso_input[1] # Methane (CH4)\n",
    "    iso  = [iso_1,iso_2]\n",
    "    dH_1, dH_2 = dH_input[:2]         # (kJ/mol): Heat of adsorption\n",
    "    dH = np.array([dH_1,dH_2])*1000    # (J/mol): Heat of adsorption \n",
    "    P_low_part = np.array(x_ini)*P_low      # (bar): partial pressure\n",
    "    P_high_part = np.array(yfeed)*P_high    # (bar): partial pressure\n",
    "    ### Uptakes\n",
    "    #print(P_low_part)\n",
    "    P_low_part = np.reshape(P_low_part,len(iso))\n",
    "    q_des = iso_mix_new(P_low_part,Tfeed,iso,\n",
    "                    dH,Tref_input)\n",
    "    #print(P_high_part)\n",
    "    P_high_part = np.reshape(P_high_part,len(iso))\n",
    "    q_sat_tot = iso_mix_new(P_high_part,Tfeed,iso,\n",
    "                        dH,Tref_input)\n",
    "    Dq_tot = q_sat_tot-q_des\n",
    "    ### Leading component ?\n",
    "    sat_extent = np.array(yfeed)/Dq_tot # Saturation extent kg/mol\n",
    "    ind_lead_tot = np.argmax(sat_extent)\n",
    "    dq = q_sat_tot - q_des\n",
    "    x_out = dq/(np.sum(dq))\n",
    "    return x_out,ind_lead_tot"
   ]
  },
  {
   "cell_type": "markdown",
   "metadata": {},
   "source": [
    "## rec_new"
   ]
  },
  {
   "cell_type": "code",
   "execution_count": 41,
   "metadata": {},
   "outputs": [],
   "source": [
    "def rec_new(x_ini,P_high,P_low,\n",
    "        iso_input, dH_input, Tref_input, \n",
    "        yfeed,Tfeed):\n",
    "    def x_err(xx):\n",
    "        x_new,_ = x2x_new([xx, 1-xx],P_high,P_low,\n",
    "                           iso_input, dH_input, Tref_input, \n",
    "                           yfeed,Tfeed)\n",
    "        return (xx-x_new[0])**2\n",
    "    #sol = optim.minimize(x_err,x_ini,method='COBYLA')\n",
    "    sol = optim.least_squares(x_err,x_ini,bounds = [0,1])\n",
    "    x_sol = sol.x\n",
    "    _,i_lead = x2x_new([x_sol, 1- x_sol],P_high,P_low,\n",
    "                   iso_input, dH_input, Tref_input, \n",
    "                   yfeed,Tfeed)\n",
    "    Recovery = 1-(1-x_sol)/x_sol*yfeed[0]/yfeed[1]\n",
    "    if Recovery < 0 or Recovery > 1:\n",
    "        Recovery = 1-x_sol/(1-x_sol)*yfeed[1]/yfeed[0]\n",
    "    return Recovery, i_lead, x_sol"
   ]
  },
  {
   "cell_type": "markdown",
   "metadata": {},
   "source": [
    "# RUN CO2 VSA"
   ]
  },
  {
   "cell_type": "markdown",
   "metadata": {},
   "source": [
    "## PREVIOUS VSA"
   ]
  },
  {
   "cell_type": "code",
   "execution_count": 44,
   "metadata": {},
   "outputs": [
    {
     "name": "stdout",
     "output_type": "stream",
     "text": [
      "MOR-1\n"
     ]
    }
   ],
   "source": [
    "#P_h_range = np.arange(2.5,50.1,0.5)\n",
    "P_l_range = np.logspace(-3,np.log10(0.5))\n",
    "T_feed_in = 343         # (K) temperature or 298K\n",
    "T_tri = [298.15,]*2\n",
    "#y_feed_in = np.array([0.83356,0.1644])\n",
    "y_meth = 5/10\n",
    "#y_ethy = 0.83356\n",
    "y_feed_in = np.array([1-y_meth,y_meth])\n",
    "Rec_list_set = []\n",
    "leading_index_set = []\n",
    "xx_list_set = []\n",
    "Popt_CO2_list = []\n",
    "#Pl_list = np.linspace(0.004,0.5,30)\n",
    "\n",
    "Rec_list = []\n",
    "leading_index = []\n",
    "xx_list = []\n",
    "x_guess = np.array([0.5,0.5])\n",
    "for pl in P_l_range:\n",
    "    rec_tmp,l_ind,x_tmp = rec(x_guess[0], 1,pl,\n",
    "                              bins_targ_H2S, dH_targ_H2S, T_tri,y_feed_in, T_feed_in)\n",
    "    Rec_list.append(rec_tmp)\n",
    "    leading_index.append(l_ind)\n",
    "    xx_list.append(x_tmp)\n",
    "Rec_list_set.append(Rec_list)\n",
    "leading_index_set.append(leading_index)\n",
    "\n",
    "x_max = np.max(xx_list)\n",
    "\n",
    "print(Names_H2S[ind_targ])"
   ]
  },
  {
   "cell_type": "code",
   "execution_count": 45,
   "metadata": {},
   "outputs": [
    {
     "name": "stdout",
     "output_type": "stream",
     "text": [
      "53.80396262453835\n"
     ]
    },
    {
     "data": {
      "image/png": "[encoded data removed]",
      "text/plain": [
       "<Figure size 432x288 with 1 Axes>"
      ]
     },
     "metadata": {
      "needs_background": "light"
     },
     "output_type": "display_data"
    }
   ],
   "source": [
    "plt.plot(Rec_list)\n",
    "print(np.max(Rec_list)*100)"
   ]
  },
  {
   "cell_type": "markdown",
   "metadata": {},
   "source": [
    "## NEW VSA"
   ]
  },
  {
   "cell_type": "code",
   "execution_count": 48,
   "metadata": {},
   "outputs": [
    {
     "name": "stdout",
     "output_type": "stream",
     "text": [
      "MOR-1\n"
     ]
    }
   ],
   "source": [
    "#P_h_range = np.arange(2.5,50.1,0.5)\n",
    "P_l_range = np.logspace(-3,np.log10(0.5))\n",
    "T_feed_in = 343         # (K) temperature or 298K\n",
    "T_tri = [298.15,]*2\n",
    "#y_feed_in = np.array([0.83356,0.1644])\n",
    "y_meth = 5/10\n",
    "#y_ethy = 0.83356\n",
    "y_feed_in = np.array([1-y_meth,y_meth])\n",
    "Rec_list_set = []\n",
    "leading_index_set = []\n",
    "xx_list_set = []\n",
    "#Pl_list = np.linspace(0.004,0.5,30)\n",
    "\n",
    "Rec_list = []\n",
    "leading_index = []\n",
    "xx_list = []\n",
    "x_guess = np.array([0.5,0.5])\n",
    "for pl in P_l_range:\n",
    "    rec_tmp,l_ind,x_tmp = rec_new(x_guess[0], 1,pl,\n",
    "                              bins_targ_H2S, dH_targ_H2S, T_tri,y_feed_in, T_feed_in)\n",
    "    Rec_list.append(rec_tmp)\n",
    "    leading_index.append(l_ind)\n",
    "    xx_list.append(x_tmp)\n",
    "Rec_list_set.append(Rec_list)\n",
    "leading_index_set.append(leading_index)\n",
    "\n",
    "x_max = np.max(xx_list)\n",
    "\n",
    "print(Names_H2S[ind_targ])"
   ]
  },
  {
   "cell_type": "code",
   "execution_count": 49,
   "metadata": {},
   "outputs": [
    {
     "name": "stdout",
     "output_type": "stream",
     "text": [
      "56.31689068308536\n"
     ]
    },
    {
     "data": {
      "image/png": "[encoded data removed]",
      "text/plain": [
       "<Figure size 432x288 with 1 Axes>"
      ]
     },
     "metadata": {
      "needs_background": "light"
     },
     "output_type": "display_data"
    }
   ],
   "source": [
    "plt.plot(Rec_list)\n",
    "print(np.max(Rec_list)*100)"
   ]
  }
 ],
 "metadata": {
  "kernelspec": {
   "display_name": "Python 3",
   "language": "python",
   "name": "python3"
  },
  "language_info": {
   "codemirror_mode": {
    "name": "ipython",
    "version": 3
   },
   "file_extension": ".py",
   "mimetype": "text/x-python",
   "name": "python",
   "nbconvert_exporter": "python",
   "pygments_lexer": "ipython3",
   "version": "3.8.3"
  },
  "latex_envs": {
   "LaTeX_envs_menu_present": true,
   "autoclose": true,
   "autocomplete": true,
   "bibliofile": "biblio.bib",
   "cite_by": "apalike",
   "current_citInitial": 1,
   "eqLabelWithNumbers": true,
   "eqNumInitial": 1,
   "hotkeys": {
    "equation": "Ctrl-E",
    "itemize": "Ctrl-I"
   },
   "labels_anchors": false,
   "latex_user_defs": false,
   "report_style_numbering": true,
   "user_envs_cfg": false
  },
  "toc": {
   "base_numbering": 1,
   "nav_menu": {},
   "number_sections": true,
   "sideBar": true,
   "skip_h1_title": false,
   "title_cell": "Table of Contents",
   "title_sidebar": "Contents",
   "toc_cell": false,
   "toc_position": {
    "height": "calc(100% - 180px)",
    "left": "10px",
    "top": "150px",
    "width": "349.091px"
   },
   "toc_section_display": true,
   "toc_window_display": true
  },
  "varInspector": {
   "cols": {
    "lenName": 16,
    "lenType": 16,
    "lenVar": 40
   },
   "kernels_config": {
    "python": {
     "delete_cmd_postfix": "",
     "delete_cmd_prefix": "del ",
     "library": "var_list.py",
     "varRefreshCmd": "print(var_dic_list())"
    },
    "r": {
     "delete_cmd_postfix": ") ",
     "delete_cmd_prefix": "rm(",
     "library": "var_list.r",
     "varRefreshCmd": "cat(var_dic_list()) "
    }
   },
   "types_to_exclude": [
    "module",
    "function",
    "builtin_function_or_method",
    "instance",
    "_Feature"
   ],
   "window_display": false
  }
 },
 "nbformat": 4,
 "nbformat_minor": 4
}
