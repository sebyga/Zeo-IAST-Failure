{
 "cells": [
  {
   "cell_type": "markdown",
   "metadata": {},
   "source": [
    "# Import Library"
   ]
  },
  {
   "cell_type": "code",
   "execution_count": 1,
   "metadata": {},
   "outputs": [],
   "source": [
    "import pyiast\n",
    "import pandas as pd\n",
    "import numpy as np\n",
    "import os\n",
    "import matplotlib.pyplot as plt\n",
    "import pickle\n",
    "import time\n",
    "import os\n",
    "import scipy.optimize as optim\n",
    "import matplotlib.pyplot as plt"
   ]
  },
  {
   "cell_type": "markdown",
   "metadata": {},
   "source": [
    "# Import Isotherm Fitting Data"
   ]
  },
  {
   "cell_type": "code",
   "execution_count": 2,
   "metadata": {},
   "outputs": [],
   "source": [
    "basepath = os.getcwd()"
   ]
  },
  {
   "cell_type": "code",
   "execution_count": 3,
   "metadata": {},
   "outputs": [],
   "source": [
    "os.chdir(basepath)\n",
    "os.chdir('..')\n",
    "\n",
    "df_NAME=pd.read_csv(\"HEAT_0413.csv\")\n",
    "\n",
    "bins_CO2 = []\n",
    "bins_H2S = []\n",
    "for nam in df_NAME[\"NAME\"]:\n",
    "    f_tmp = open(\"iso_\"+nam+\"_saved.bin\",'rb')\n",
    "    bin_tmp = np.array(pickle.load(f_tmp))\n",
    "    bins_CO2.append(bin_tmp[[False, True, True]]) ## Pick 1 = CO2, 2 = CH4 \n",
    "    f_tmp.close()\n",
    "for nam in df_NAME[\"NAME\"]:\n",
    "    f_tmp = open(\"iso_\"+nam+\"_saved.bin\",'rb') ## 0 = H2S , 1 = CO2, 2 = CH4\n",
    "    bin_tmp = np.array(pickle.load(f_tmp))\n",
    "    bins_H2S.append(bin_tmp[[True, False, True]]) ## Pick 0 = H2S and 2 = CH4\n",
    "    f_tmp.close()\n",
    "\n",
    "Names_CO2=df_NAME[\"NAME\"].to_numpy()\n",
    "Names_H2S=df_NAME[\"NAME\"].to_numpy()\n",
    "dH_CO2 = np.array([df_NAME[\"CO2_Heat\"], df_NAME[\"CH4_Heat\"]]).T\n",
    "dH_H2S = np.array([df_NAME[\"H2S_Heat\"],df_NAME[\"CH4_Heat\"]]).T\n",
    "\n",
    "os.chdir(basepath)"
   ]
  },
  {
   "cell_type": "code",
   "execution_count": 4,
   "metadata": {},
   "outputs": [
    {
     "name": "stdout",
     "output_type": "stream",
     "text": [
      "4\n",
      "4\n",
      "\n",
      "4\n",
      "4\n"
     ]
    }
   ],
   "source": [
    "print(len(Names_H2S))\n",
    "print(len(bins_H2S))\n",
    "print()\n",
    "print(len(Names_CO2))\n",
    "print(len(bins_CO2))"
   ]
  },
  {
   "cell_type": "markdown",
   "metadata": {},
   "source": [
    "# Functions for Isotherms and Ideal PSA"
   ]
  },
  {
   "cell_type": "code",
   "execution_count": 5,
   "metadata": {},
   "outputs": [],
   "source": [
    "Arrh = lambda T,dH ,T_ref: np.exp(-dH/8.3145*(1/T - 1/T_ref)) # Arrhenius equation (Clasius-Clapeyron Equation)\n",
    "\n",
    "## Isothermal mixture isotherm\n",
    "def iso_mix(P_par, T, iso_list, dH_list,Tref_list):\n",
    "    P_norm = []\n",
    "    for (p,dh,tref) in zip(P_par, dH_list,Tref_list):\n",
    "        p_n = Arrh(T,dh,tref)*p \n",
    "        P_norm.append(p_n)\n",
    "    P_norm_arr = np.array(P_norm)\n",
    "    #print(P_norm_mat.T)\n",
    "    if P_norm_arr.ndim > 1:\n",
    "        for i in range(len(P_norm[0])):\n",
    "            p_tmp = P_norm_arr[i,:]\n",
    "            p_tmp[p_tmp<0.000001] = 0.000001\n",
    "            q_IAST_tmp = pyiast.iast(p_tmp,\n",
    "                                     iso_list,\n",
    "                                     warningoff=True)\n",
    "    else:\n",
    "        try:\n",
    "            p_tmp = P_norm_arr\n",
    "            p_tmp[p_tmp<0.000001] = 0.000001\n",
    "            #print(p_tmp)\n",
    "            q_IAST_tmp = pyiast.iast(p_tmp,\n",
    "                                    iso_list,\n",
    "                                     warningoff=True)\n",
    "        except:    \n",
    "            try:\n",
    "                #print('Initial guess error with P = ',P_par)\n",
    "                x_IG = np.ones(len(p_tmp))/len(p_tmp)\n",
    "                q_IAST_tmp = pyiast.iast(p_tmp,\n",
    "                                        iso_list,adsorbed_mole_fraction_guess = x_IG,\n",
    "                                        warningoff=True)\n",
    "            except:\n",
    "                try:\n",
    "                    arg_min = np.argmin(p_tmp)\n",
    "                    p_tmp[p_tmp<0.000001] = 0.000001\n",
    "                    x_IG = 0.05*np.ones(len(p_tmp))\n",
    "                    x_IG[arg_min] = 1 - 0.05*(len(p_tmp)-1)\n",
    "                    #print(x_IG)\n",
    "                    q_IAST_tmp = pyiast.iast(p_tmp,\n",
    "                                            iso_list,adsorbed_mole_fraction_guess = x_IG,\n",
    "                                            warningoff=True)\n",
    "\n",
    "                except:\n",
    "                    try:\n",
    "                        arg_max = np.argmax(p_tmp)\n",
    "                        p_tmp[p_tmp<0.000001] = 0.000001\n",
    "                        x_IG = 0.05*np.ones(len(p_tmp))\n",
    "                        x_IG[arg_max] = 1 - 0.05*(len(p_tmp)-1)\n",
    "                        #print(x_IG)\n",
    "                        q_IAST_tmp = pyiast.iast(p_tmp,\n",
    "                                                iso_list,adsorbed_mole_fraction_guess = x_IG,\n",
    "                                                warningoff=True)        \n",
    "                    except:\n",
    "                        try:\n",
    "                            arg_max = np.argmax(p_tmp)\n",
    "                            p_tmp[p_tmp<0.000001] = 0.000001\n",
    "                            x_IG = 0.15*np.ones(len(p_tmp))\n",
    "                            x_IG[arg_max] = 1 - 0.15*(len(p_tmp)-1)\n",
    "                            #print(x_IG)\n",
    "                            q_IAST_tmp = pyiast.iast(p_tmp,\n",
    "                                                iso_list,adsorbed_mole_fraction_guess = x_IG,\n",
    "                                                warningoff=True)\n",
    "                        except:\n",
    "                            try:\n",
    "                                arg_min = np.argmin(p_tmp)\n",
    "                                p_tmp[p_tmp<0.000001] = 0.000001\n",
    "                                x_IG = 0.01*np.ones(len(p_tmp))\n",
    "                                x_IG[arg_min] = 1 - 0.01*(len(p_tmp)-1)\n",
    "                                #print(x_IG)\n",
    "                                q_IAST_tmp = pyiast.iast(p_tmp,\n",
    "                                            iso_list,adsorbed_mole_fraction_guess = x_IG,\n",
    "                                            warningoff=True)\n",
    "\n",
    "                            except:\n",
    "                                try:\n",
    "                                    arg_max = np.argmax(p_tmp)\n",
    "                                    p_tmp[p_tmp<0.000001] = 0.000001\n",
    "                                    x_IG = 0.01*np.ones(len(p_tmp))\n",
    "                                    x_IG[arg_max] = 1 - 0.01*(len(p_tmp)-1)\n",
    "                                    #print(x_IG)\n",
    "                                    q_IAST_tmp = pyiast.iast(p_tmp,\n",
    "                                                    iso_list,adsorbed_mole_fraction_guess = x_IG,\n",
    "                                                warningoff=True)        \n",
    "                                except:\n",
    "                                    p_tmp[p_tmp<0.000001] = 0.000001\n",
    "                                    x_IG = [0.9999, 0.0001]\n",
    "                                    #print(x_IG)\n",
    "                                    q_IAST_tmp = pyiast.iast(p_tmp,\n",
    "                                                    iso_list,adsorbed_mole_fraction_guess = x_IG,\n",
    "                                                warningoff=True)    \n",
    "           \n",
    "    return q_IAST_tmp"
   ]
  },
  {
   "cell_type": "code",
   "execution_count": 6,
   "metadata": {},
   "outputs": [],
   "source": [
    "def sat_fraction(y_lead,q_lead_array, y_follow,q_follow_array):\n",
    "    q_sat_lead_part, q_sat_lead_tot, q_des_lead = q_lead_array\n",
    "    q_sat_fo, q_des_fo = q_follow_array\n",
    "    numo = y_follow*(q_sat_lead_part - q_des_lead)+y_lead*q_des_fo\n",
    "    denom = y_follow*(q_sat_lead_part - q_sat_lead_tot)+y_lead*q_sat_fo\n",
    "    sat_frac = numo/denom\n",
    "    return sat_frac"
   ]
  },
  {
   "cell_type": "code",
   "execution_count": 7,
   "metadata": {},
   "outputs": [],
   "source": [
    "def x2x(x_ini,P_high,P_low,\n",
    "        iso_input, dH_input, Tref_input, \n",
    "        yfeed,Tfeed):\n",
    "    iso_1 = iso_input[0] # Heavy (CO2 or H2S)\n",
    "    iso_2 = iso_input[1] # Methane (CH4)\n",
    "    iso  = [iso_1,iso_2]\n",
    "    dH_1, dH_2 = dH_input[:2]         # (kJ/mol): Heat of adsorption\n",
    "    dH = np.array([dH_1,dH_2])*1000    # (J/mol): Heat of adsorption \n",
    "    P_low_part = np.array(x_ini)*P_low      # (bar): partial pressure\n",
    "    P_high_part = np.array(yfeed)*P_high    # (bar): partial pressure\n",
    "    ### Uptakes\n",
    "    #print(P_low_part)\n",
    "    P_low_part = np.reshape(P_low_part,len(iso))\n",
    "    q_des = iso_mix(P_low_part,Tfeed,iso,\n",
    "                    dH,Tref_input)\n",
    "    #print(P_high_part)\n",
    "    P_high_part = np.reshape(P_high_part,len(iso))\n",
    "    q_sat_tot = iso_mix(P_high_part,Tfeed,iso,\n",
    "                        dH,Tref_input)\n",
    "    Dq_tot = q_sat_tot-q_des\n",
    "    ### Leading component ?\n",
    "    sat_extent = np.array(yfeed)/Dq_tot # Saturation extent kg/mol\n",
    "    ind_lead_tot = np.argmax(sat_extent)\n",
    "    dq = q_sat_tot - q_des\n",
    "    x_out = dq/(np.sum(dq))\n",
    "    return x_out,ind_lead_tot\n"
   ]
  },
  {
   "cell_type": "code",
   "execution_count": 8,
   "metadata": {},
   "outputs": [],
   "source": [
    "\n",
    "def rec(x_ini,P_high,P_low,\n",
    "        iso_input, dH_input, Tref_input, \n",
    "        yfeed,Tfeed):\n",
    "    def x_err(xx):\n",
    "        x_new,_ = x2x([xx, 1-xx],P_high,P_low,\n",
    "                           iso_input, dH_input, Tref_input, \n",
    "                           yfeed,Tfeed)\n",
    "        return (xx-x_new[0])**2\n",
    "    #sol = optim.minimize(x_err,x_ini,method='COBYLA')\n",
    "    sol = optim.least_squares(x_err,x_ini,bounds = [0,1])\n",
    "    x_sol = sol.x\n",
    "    _,i_lead = x2x([x_sol, 1- x_sol],P_high,P_low,\n",
    "                   iso_input, dH_input, Tref_input, \n",
    "                   yfeed,Tfeed)\n",
    "    #if i_lead  < 0.5:\n",
    "    #    return -1\n",
    "    Recovery = 1-(1-x_sol)/x_sol*yfeed[0]/yfeed[1]\n",
    "    if Recovery < 0 or Recovery > 1:\n",
    "        Recovery = 1-x_sol/(1-x_sol)*yfeed[1]/yfeed[0]\n",
    "    return Recovery, i_lead, x_sol\n",
    "  #  return x_sol, i_lead, x_sol\n",
    "    "
   ]
  },
  {
   "cell_type": "markdown",
   "metadata": {},
   "source": [
    "# Find the Target Adsorbent"
   ]
  },
  {
   "cell_type": "code",
   "execution_count": 9,
   "metadata": {},
   "outputs": [
    {
     "name": "stdout",
     "output_type": "stream",
     "text": [
      "0 IWR-1\n",
      "1 LTL-2\n",
      "2 MOR-1\n",
      "3 SEW-1\n"
     ]
    }
   ],
   "source": [
    "for i in range(len(Names_CO2)):\n",
    "    print(i, Names_CO2[i])"
   ]
  },
  {
   "cell_type": "code",
   "execution_count": 10,
   "metadata": {},
   "outputs": [
    {
     "name": "stdout",
     "output_type": "stream",
     "text": [
      "IWR-1\n",
      "LTL-2\n"
     ]
    }
   ],
   "source": [
    "print(Names_CO2[0])\n",
    "print(Names_CO2[1])"
   ]
  },
  {
   "cell_type": "code",
   "execution_count": 11,
   "metadata": {},
   "outputs": [],
   "source": [
    "ind_targ = 1 # LTL2: index = 1\n",
    "bins_targ_CO2 = bins_CO2[ind_targ]\n",
    "bins_targ_H2S = bins_H2S[ind_targ]\n",
    "\n",
    "dH_targ_CO2 = dH_CO2[ind_targ]\n",
    "dH_targ_H2S = dH_H2S[ind_targ]"
   ]
  },
  {
   "cell_type": "markdown",
   "metadata": {},
   "source": [
    "# Import GCMC Data"
   ]
  },
  {
   "cell_type": "code",
   "execution_count": 12,
   "metadata": {},
   "outputs": [],
   "source": [
    "os.chdir(basepath)\n",
    "df_targ = pd.read_csv('GCMC_LTL_CO2_CH4.csv')"
   ]
  },
  {
   "cell_type": "code",
   "execution_count": 13,
   "metadata": {},
   "outputs": [
    {
     "data": {
      "text/html": [
       "<div>\n",
       "<style scoped>\n",
       "    .dataframe tbody tr th:only-of-type {\n",
       "        vertical-align: middle;\n",
       "    }\n",
       "\n",
       "    .dataframe tbody tr th {\n",
       "        vertical-align: top;\n",
       "    }\n",
       "\n",
       "    .dataframe thead th {\n",
       "        text-align: right;\n",
       "    }\n",
       "</style>\n",
       "<table border=\"1\" class=\"dataframe\">\n",
       "  <thead>\n",
       "    <tr style=\"text-align: right;\">\n",
       "      <th></th>\n",
       "      <th>P</th>\n",
       "      <th>CO2</th>\n",
       "      <th>CH4</th>\n",
       "    </tr>\n",
       "  </thead>\n",
       "  <tbody>\n",
       "    <tr>\n",
       "      <th>0</th>\n",
       "      <td>0.0001</td>\n",
       "      <td>0.000032</td>\n",
       "      <td>0.000000</td>\n",
       "    </tr>\n",
       "    <tr>\n",
       "      <th>1</th>\n",
       "      <td>0.0005</td>\n",
       "      <td>0.000078</td>\n",
       "      <td>0.000020</td>\n",
       "    </tr>\n",
       "    <tr>\n",
       "      <th>2</th>\n",
       "      <td>0.0010</td>\n",
       "      <td>0.000150</td>\n",
       "      <td>0.000038</td>\n",
       "    </tr>\n",
       "    <tr>\n",
       "      <th>3</th>\n",
       "      <td>0.0100</td>\n",
       "      <td>0.001630</td>\n",
       "      <td>0.000413</td>\n",
       "    </tr>\n",
       "    <tr>\n",
       "      <th>4</th>\n",
       "      <td>0.0200</td>\n",
       "      <td>0.003548</td>\n",
       "      <td>0.000734</td>\n",
       "    </tr>\n",
       "    <tr>\n",
       "      <th>5</th>\n",
       "      <td>0.0300</td>\n",
       "      <td>0.005106</td>\n",
       "      <td>0.001176</td>\n",
       "    </tr>\n",
       "    <tr>\n",
       "      <th>6</th>\n",
       "      <td>0.0400</td>\n",
       "      <td>0.006530</td>\n",
       "      <td>0.001627</td>\n",
       "    </tr>\n",
       "    <tr>\n",
       "      <th>7</th>\n",
       "      <td>0.0500</td>\n",
       "      <td>0.008625</td>\n",
       "      <td>0.001950</td>\n",
       "    </tr>\n",
       "    <tr>\n",
       "      <th>8</th>\n",
       "      <td>0.0600</td>\n",
       "      <td>0.010122</td>\n",
       "      <td>0.002332</td>\n",
       "    </tr>\n",
       "    <tr>\n",
       "      <th>9</th>\n",
       "      <td>0.0700</td>\n",
       "      <td>0.011994</td>\n",
       "      <td>0.002843</td>\n",
       "    </tr>\n",
       "    <tr>\n",
       "      <th>10</th>\n",
       "      <td>0.0800</td>\n",
       "      <td>0.013670</td>\n",
       "      <td>0.003147</td>\n",
       "    </tr>\n",
       "    <tr>\n",
       "      <th>11</th>\n",
       "      <td>0.0900</td>\n",
       "      <td>0.015496</td>\n",
       "      <td>0.003540</td>\n",
       "    </tr>\n",
       "    <tr>\n",
       "      <th>12</th>\n",
       "      <td>0.1000</td>\n",
       "      <td>0.017045</td>\n",
       "      <td>0.004161</td>\n",
       "    </tr>\n",
       "    <tr>\n",
       "      <th>13</th>\n",
       "      <td>0.3000</td>\n",
       "      <td>0.049164</td>\n",
       "      <td>0.011786</td>\n",
       "    </tr>\n",
       "    <tr>\n",
       "      <th>14</th>\n",
       "      <td>0.5000</td>\n",
       "      <td>0.083875</td>\n",
       "      <td>0.019790</td>\n",
       "    </tr>\n",
       "    <tr>\n",
       "      <th>15</th>\n",
       "      <td>0.7000</td>\n",
       "      <td>0.115783</td>\n",
       "      <td>0.027016</td>\n",
       "    </tr>\n",
       "    <tr>\n",
       "      <th>16</th>\n",
       "      <td>0.9000</td>\n",
       "      <td>0.138352</td>\n",
       "      <td>0.033486</td>\n",
       "    </tr>\n",
       "    <tr>\n",
       "      <th>17</th>\n",
       "      <td>1.0000</td>\n",
       "      <td>0.160280</td>\n",
       "      <td>0.037687</td>\n",
       "    </tr>\n",
       "    <tr>\n",
       "      <th>18</th>\n",
       "      <td>2.0000</td>\n",
       "      <td>0.287921</td>\n",
       "      <td>0.070866</td>\n",
       "    </tr>\n",
       "    <tr>\n",
       "      <th>19</th>\n",
       "      <td>3.0000</td>\n",
       "      <td>0.403281</td>\n",
       "      <td>0.098767</td>\n",
       "    </tr>\n",
       "    <tr>\n",
       "      <th>20</th>\n",
       "      <td>4.0000</td>\n",
       "      <td>0.498922</td>\n",
       "      <td>0.123445</td>\n",
       "    </tr>\n",
       "    <tr>\n",
       "      <th>21</th>\n",
       "      <td>5.0000</td>\n",
       "      <td>0.581533</td>\n",
       "      <td>0.144414</td>\n",
       "    </tr>\n",
       "    <tr>\n",
       "      <th>22</th>\n",
       "      <td>6.0000</td>\n",
       "      <td>0.654711</td>\n",
       "      <td>0.169639</td>\n",
       "    </tr>\n",
       "    <tr>\n",
       "      <th>23</th>\n",
       "      <td>7.0000</td>\n",
       "      <td>0.717499</td>\n",
       "      <td>0.183254</td>\n",
       "    </tr>\n",
       "    <tr>\n",
       "      <th>24</th>\n",
       "      <td>8.0000</td>\n",
       "      <td>0.770346</td>\n",
       "      <td>0.203061</td>\n",
       "    </tr>\n",
       "    <tr>\n",
       "      <th>25</th>\n",
       "      <td>9.0000</td>\n",
       "      <td>0.834411</td>\n",
       "      <td>0.216578</td>\n",
       "    </tr>\n",
       "    <tr>\n",
       "      <th>26</th>\n",
       "      <td>10.0000</td>\n",
       "      <td>0.875412</td>\n",
       "      <td>0.234047</td>\n",
       "    </tr>\n",
       "  </tbody>\n",
       "</table>\n",
       "</div>"
      ],
      "text/plain": [
       "          P       CO2       CH4\n",
       "0    0.0001  0.000032  0.000000\n",
       "1    0.0005  0.000078  0.000020\n",
       "2    0.0010  0.000150  0.000038\n",
       "3    0.0100  0.001630  0.000413\n",
       "4    0.0200  0.003548  0.000734\n",
       "5    0.0300  0.005106  0.001176\n",
       "6    0.0400  0.006530  0.001627\n",
       "7    0.0500  0.008625  0.001950\n",
       "8    0.0600  0.010122  0.002332\n",
       "9    0.0700  0.011994  0.002843\n",
       "10   0.0800  0.013670  0.003147\n",
       "11   0.0900  0.015496  0.003540\n",
       "12   0.1000  0.017045  0.004161\n",
       "13   0.3000  0.049164  0.011786\n",
       "14   0.5000  0.083875  0.019790\n",
       "15   0.7000  0.115783  0.027016\n",
       "16   0.9000  0.138352  0.033486\n",
       "17   1.0000  0.160280  0.037687\n",
       "18   2.0000  0.287921  0.070866\n",
       "19   3.0000  0.403281  0.098767\n",
       "20   4.0000  0.498922  0.123445\n",
       "21   5.0000  0.581533  0.144414\n",
       "22   6.0000  0.654711  0.169639\n",
       "23   7.0000  0.717499  0.183254\n",
       "24   8.0000  0.770346  0.203061\n",
       "25   9.0000  0.834411  0.216578\n",
       "26  10.0000  0.875412  0.234047"
      ]
     },
     "execution_count": 13,
     "metadata": {},
     "output_type": "execute_result"
    }
   ],
   "source": [
    "df_targ"
   ]
  },
  {
   "cell_type": "code",
   "execution_count": 14,
   "metadata": {},
   "outputs": [],
   "source": [
    "p_gcmc_targ = df_targ['P'].to_numpy()\n",
    "\n",
    "#q_h2s_gcmc_targ = df_targ['q_H2S'].to_numpy()\n",
    "q_co2_gcmc_targ = df_targ['CO2'].to_numpy()\n",
    "\n",
    "q_ch4_0_gcmc_targ = df_targ['CH4'].to_numpy()\n",
    "#q_ch4_1_gcmc_targ = df_targ['q_CH4_withH2S'].to_numpy()"
   ]
  },
  {
   "cell_type": "code",
   "execution_count": 15,
   "metadata": {},
   "outputs": [
    {
     "data": {
      "text/plain": [
       "[<matplotlib.lines.Line2D at 0x1ee395604f0>]"
      ]
     },
     "execution_count": 15,
     "metadata": {},
     "output_type": "execute_result"
    },
    {
     "data": {
      "image/png": "[encoded data removed]",
      "text/plain": [
       "<Figure size 432x288 with 1 Axes>"
      ]
     },
     "metadata": {
      "needs_background": "light"
     },
     "output_type": "display_data"
    }
   ],
   "source": [
    "#plt.plot(p_gcmc_targ, q_h2s_gcmc_targ)\n",
    "plt.plot(p_gcmc_targ, q_co2_gcmc_targ)"
   ]
  },
  {
   "cell_type": "markdown",
   "metadata": {},
   "source": [
    "# IAST results vs GCMC results"
   ]
  },
  {
   "cell_type": "markdown",
   "metadata": {},
   "source": [
    "## CO2"
   ]
  },
  {
   "cell_type": "code",
   "execution_count": 16,
   "metadata": {},
   "outputs": [
    {
     "data": {
      "text/plain": [
       "<matplotlib.legend.Legend at 0x1ee3b5fadf0>"
      ]
     },
     "execution_count": 16,
     "metadata": {},
     "output_type": "execute_result"
    },
    {
     "data": {
      "image/png": "[encoded data removed]",
      "text/plain": [
       "<Figure size 432x288 with 1 Axes>"
      ]
     },
     "metadata": {
      "needs_background": "light"
     },
     "output_type": "display_data"
    }
   ],
   "source": [
    "T_test = 343\n",
    "q_co2_iast_targ = []\n",
    "for pp in p_gcmc_targ:\n",
    "    iast_res_tmp = iso_mix(np.array([0.5,0.5])*pp,T_test, bins_targ_CO2,dH_targ_CO2*1000, [298.15,298.15])\n",
    "    q_co2_iast_targ.append(iast_res_tmp)\n",
    "q_co2_iast_targ = np.array(q_co2_iast_targ)\n",
    "\n",
    "plt.plot(p_gcmc_targ, q_co2_iast_targ[:,0], label = 'CO2 IAST')\n",
    "plt.plot(p_gcmc_targ, q_co2_iast_targ[:,1], label = 'CH4 IAST')\n",
    "\n",
    "plt.legend()\n"
   ]
  },
  {
   "cell_type": "code",
   "execution_count": 17,
   "metadata": {},
   "outputs": [
    {
     "data": {
      "text/plain": [
       "<matplotlib.legend.Legend at 0x1ee3b669eb0>"
      ]
     },
     "execution_count": 17,
     "metadata": {},
     "output_type": "execute_result"
    },
    {
     "data": {
      "image/png": "[encoded data removed]",
      "text/plain": [
       "<Figure size 432x288 with 1 Axes>"
      ]
     },
     "metadata": {
      "needs_background": "light"
     },
     "output_type": "display_data"
    }
   ],
   "source": [
    "## Ratio of gcmc to IAST\n",
    "plt.plot(p_gcmc_targ, q_co2_gcmc_targ/ q_co2_iast_targ[:,0] ,\n",
    "        label = 'IAST to GCMC ratio: CO2') # CO2\n",
    "plt.plot(p_gcmc_targ,q_ch4_0_gcmc_targ /  q_co2_iast_targ[:,1] ,\n",
    "        label = 'IAST to GCMC ratio: CH4') # CH4\n",
    "\n",
    "plt.legend() "
   ]
  },
  {
   "cell_type": "markdown",
   "metadata": {},
   "source": [
    "# BEFORE (CO2)"
   ]
  },
  {
   "cell_type": "code",
   "execution_count": 18,
   "metadata": {},
   "outputs": [
    {
     "data": {
      "text/plain": [
       "[<matplotlib.lines.Line2D at 0x1ee3c6c6df0>]"
      ]
     },
     "execution_count": 18,
     "metadata": {},
     "output_type": "execute_result"
    },
    {
     "data": {
      "image/png": "[encoded data removed]",
      "text/plain": [
       "<Figure size 432x288 with 1 Axes>"
      ]
     },
     "metadata": {
      "needs_background": "light"
     },
     "output_type": "display_data"
    },
    {
     "data": {
      "image/png": "[encoded data removed]",
      "text/plain": [
       "<Figure size 432x288 with 1 Axes>"
      ]
     },
     "metadata": {
      "needs_background": "light"
     },
     "output_type": "display_data"
    }
   ],
   "source": [
    "plt.figure()\n",
    "plt.title('No Modification: CO2')\n",
    "plt.plot(p_gcmc_targ, q_co2_gcmc_targ, 'o')\n",
    "plt.plot(p_gcmc_targ, q_co2_iast_targ[:,0])\n",
    "\n",
    "plt.figure()\n",
    "plt.title('No Modification: CH4')\n",
    "plt.plot(p_gcmc_targ, q_ch4_0_gcmc_targ, 'o')\n",
    "#plt.plot(p_gcmc_targ, q_co2_iast_targ[:,1]*5.5*p_gcmc_targ/(1+6*p_gcmc_targ))\n",
    "plt.plot(p_gcmc_targ, q_co2_iast_targ[:,1])"
   ]
  },
  {
   "cell_type": "markdown",
   "metadata": {},
   "source": [
    "# AFTER (CO2)"
   ]
  },
  {
   "cell_type": "markdown",
   "metadata": {},
   "source": [
    "### Roughly"
   ]
  },
  {
   "cell_type": "code",
   "execution_count": 19,
   "metadata": {},
   "outputs": [
    {
     "data": {
      "text/plain": [
       "[<matplotlib.lines.Line2D at 0x1ee3c77d220>]"
      ]
     },
     "execution_count": 19,
     "metadata": {},
     "output_type": "execute_result"
    },
    {
     "data": {
      "image/png": "[encoded data removed]",
      "text/plain": [
       "<Figure size 432x288 with 1 Axes>"
      ]
     },
     "metadata": {
      "needs_background": "light"
     },
     "output_type": "display_data"
    },
    {
     "data": {
      "image/png": "[encoded data removed]",
      "text/plain": [
       "<Figure size 432x288 with 1 Axes>"
      ]
     },
     "metadata": {
      "needs_background": "light"
     },
     "output_type": "display_data"
    }
   ],
   "source": [
    "plt.figure()\n",
    "plt.title('Rough Modification: CO2')\n",
    "plt.plot(p_gcmc_targ, q_co2_gcmc_targ, 'o')\n",
    "plt.plot(p_gcmc_targ, q_co2_iast_targ[:,0]*0.98)\n",
    "\n",
    "plt.figure()\n",
    "plt.title('Rough MOdification: CH4')\n",
    "plt.plot(p_gcmc_targ, q_ch4_0_gcmc_targ, 'o')\n",
    "#plt.plot(p_gcmc_targ, q_co2_iast_targ[:,1]*5.5*p_gcmc_targ/(1+6*p_gcmc_targ))\n",
    "plt.plot(p_gcmc_targ, q_co2_iast_targ[:,1]*0.98)"
   ]
  },
  {
   "cell_type": "markdown",
   "metadata": {},
   "source": [
    "### More Accurately"
   ]
  },
  {
   "cell_type": "code",
   "execution_count": 20,
   "metadata": {},
   "outputs": [
    {
     "name": "stdout",
     "output_type": "stream",
     "text": [
      " active_mask: array([0.])\n",
      "        cost: 1.169059352056272e-07\n",
      "         fun: array([0.00048354])\n",
      "        grad: array([1.69443278e-09])\n",
      "         jac: array([[3.5042176e-06]])\n",
      "     message: '`gtol` termination condition is satisfied.'\n",
      "        nfev: 21\n",
      "        njev: 15\n",
      "  optimality: 1.6944327812045113e-09\n",
      "      status: 1\n",
      "     success: True\n",
      "           x: array([0.98658934])\n",
      "SUCCESS ? \n",
      "True\n"
     ]
    }
   ],
   "source": [
    "def f_modi_co2(kk):\n",
    "    ret_tmp = kk\n",
    "    return ret_tmp\n",
    "def obj_targ_co2(k):\n",
    "    #diff = q_co2_gcmc_targ - q_co2_iast_targ[:,0]*k\n",
    "    diff = q_co2_gcmc_targ - q_co2_iast_targ[:,0]*f_modi_co2(k)\n",
    "    return np.sum(diff**2)\n",
    "#print(obj_targ_co2(1/1.47))\n",
    "k_list = np.linspace(0.6,0.7)\n",
    "#for kkk in k_list:\n",
    "#    print(kkk)\n",
    "#    print(obj_targ_co2(kkk))\n",
    "#    print()\n",
    "opt_res_co2 = optim.least_squares(obj_targ_co2, 0.65)\n",
    "#opt_res_co2 = optim.least_squares(obj_targ_co2, [1.11,1.5,1.3])\n",
    "print(opt_res_co2)\n",
    "print('SUCCESS ? ')\n",
    "print(opt_res_co2.success)\n",
    "\n",
    "\n"
   ]
  },
  {
   "cell_type": "code",
   "execution_count": 21,
   "metadata": {},
   "outputs": [
    {
     "name": "stdout",
     "output_type": "stream",
     "text": [
      " active_mask: array([0.])\n",
      "        cost: 3.2497650324159935e-10\n",
      "         fun: array([2.54941759e-05])\n",
      "        grad: array([6.06838113e-10])\n",
      "         jac: array([[2.38030095e-05]])\n",
      "     message: '`gtol` termination condition is satisfied.'\n",
      "        nfev: 7\n",
      "        njev: 6\n",
      "  optimality: 6.068381125839099e-10\n",
      "      status: 1\n",
      "     success: True\n",
      "           x: array([0.97762742])\n"
     ]
    }
   ],
   "source": [
    "def f_modi_ch4_0(kk):\n",
    "    ret_tmp = kk\n",
    "    #ret_tmp = kk[2] - (kk[0]*p_gcmc_targ/(1+kk[1]*p_gcmc_targ))\n",
    "    #ret_tmp = (kk[0]*p_gcmc_targ/(1+kk[1]*p_gcmc_targ))\n",
    "    #ret_tmp = kk[2]/(p_gcmc_targ+kk[0]) + kk[1]\n",
    "    return ret_tmp\n",
    "\n",
    "def obj_targ_ch4_0(k):\n",
    "    diff = q_ch4_0_gcmc_targ - q_co2_iast_targ[:,1]*f_modi_ch4_0(k)\n",
    "    return np.sum(diff**2)\n",
    "#print(obj_targ_co2(1/1.47))\n",
    "k_list = np.linspace(0.6,0.7)\n",
    "#for kkk in k_list:\n",
    "#    print(kkk)\n",
    "#    print(obj_targ_co2(kkk))\n",
    "#    print()\n",
    "opt_res_ch4_0 = optim.least_squares(obj_targ_ch4_0, 0.85)\n",
    "#opt_res_ch4_0 = optim.least_squares(obj_targ_ch4_0, [0.7,1.15])\n",
    "#opt_res_ch4_0 = optim.least_squares(obj_targ_ch4_0, [0.7,0.8, 0.8])\n",
    "print(opt_res_ch4_0)\n"
   ]
  },
  {
   "cell_type": "code",
   "execution_count": 34,
   "metadata": {},
   "outputs": [
    {
     "data": {
      "text/plain": [
       "[<matplotlib.lines.Line2D at 0x1ee3c913910>]"
      ]
     },
     "execution_count": 34,
     "metadata": {},
     "output_type": "execute_result"
    },
    {
     "data": {
      "image/png": "[encoded data removed]",
      "text/plain": [
       "<Figure size 432x288 with 1 Axes>"
      ]
     },
     "metadata": {
      "needs_background": "light"
     },
     "output_type": "display_data"
    },
    {
     "data": {
      "image/png": "[encoded data removed]",
      "text/plain": [
       "<Figure size 432x288 with 1 Axes>"
      ]
     },
     "metadata": {
      "needs_background": "light"
     },
     "output_type": "display_data"
    }
   ],
   "source": [
    "plt.figure()\n",
    "plt.title('More accurate Modification: CO2')\n",
    "plt.plot(p_gcmc_targ, q_co2_gcmc_targ, 'o')\n",
    "#M_co2 = opt_res_co2.x[0]\n",
    "#K_co2 = opt_res_co2.x[1]\n",
    "#f_modi = M_co2 * p_gcmc_targ/(1+ K_co2*p_gcmc_targ)\n",
    "m_modi_co2 = f_modi_co2(opt_res_co2.x)\n",
    "plt.plot(p_gcmc_targ, q_co2_iast_targ[:,0]*m_modi_co2)\n",
    "\n",
    "plt.figure()\n",
    "plt.title('More accurate Modification: CH4')\n",
    "plt.plot(p_gcmc_targ, q_ch4_0_gcmc_targ, 'o')\n",
    "#M_co2 = opt_res_co2.x[0]\n",
    "#K_co2 = opt_res_co2.x[1]\n",
    "#f_modi = M_co2 * p_gcmc_targ/(1+ K_co2*p_gcmc_targ)\n",
    "#f_modi_ch4_0 = opt_res_ch4_0.x\n",
    "m_modi_ch4_0 = f_modi_ch4_0(opt_res_ch4_0.x)\n",
    "plt.plot(p_gcmc_targ, q_co2_iast_targ[:,1]*m_modi_ch4_0)"
   ]
  },
  {
   "cell_type": "markdown",
   "metadata": {},
   "source": [
    "# Functions AGAIN"
   ]
  },
  {
   "cell_type": "markdown",
   "metadata": {},
   "source": [
    "## iso_mix_new"
   ]
  },
  {
   "cell_type": "code",
   "execution_count": 27,
   "metadata": {},
   "outputs": [],
   "source": [
    "Arrh = lambda T,dH ,T_ref: np.exp(-dH/8.3145*(1/T - 1/T_ref)) # Arrhenius equation (Clasius-Clapeyron Equation)\n",
    "\n",
    "## Isothermal mixture isotherm\n",
    "def iso_mix_new(P_par, T, iso_list, dH_list,Tref_list):\n",
    "    P_norm = []\n",
    "    for (p,dh,tref) in zip(P_par, dH_list,Tref_list):\n",
    "        p_n = Arrh(T,dh,tref)*p \n",
    "        P_norm.append(p_n)\n",
    "    P_norm_arr = np.array(P_norm)\n",
    "    #print(P_norm_mat.T)\n",
    "    if P_norm_arr.ndim > 1:\n",
    "        for i in range(len(P_norm[0])):\n",
    "            p_tmp = P_norm_arr[i,:]\n",
    "            p_tmp[p_tmp<0.000001] = 0.000001\n",
    "            q_IAST_tmp = pyiast.iast(p_tmp,\n",
    "                                     iso_list,\n",
    "                                     warningoff=True)\n",
    "    else:\n",
    "        try:\n",
    "            p_tmp = P_norm_arr\n",
    "            p_tmp[p_tmp<0.000001] = 0.000001\n",
    "            #print(p_tmp)\n",
    "            q_IAST_tmp = pyiast.iast(p_tmp,\n",
    "                                    iso_list,\n",
    "                                     warningoff=True)\n",
    "        except:    \n",
    "            try:\n",
    "                #print('Initial guess error with P = ',P_par)\n",
    "                x_IG = np.ones(len(p_tmp))/len(p_tmp)\n",
    "                q_IAST_tmp = pyiast.iast(p_tmp,\n",
    "                                        iso_list,adsorbed_mole_fraction_guess = x_IG,\n",
    "                                        warningoff=True)\n",
    "            except:\n",
    "                try:\n",
    "                    arg_min = np.argmin(p_tmp)\n",
    "                    p_tmp[p_tmp<0.000001] = 0.000001\n",
    "                    x_IG = 0.05*np.ones(len(p_tmp))\n",
    "                    x_IG[arg_min] = 1 - 0.05*(len(p_tmp)-1)\n",
    "                    #print(x_IG)\n",
    "                    q_IAST_tmp = pyiast.iast(p_tmp,\n",
    "                                            iso_list,adsorbed_mole_fraction_guess = x_IG,\n",
    "                                            warningoff=True)\n",
    "\n",
    "                except:\n",
    "                    try:\n",
    "                        arg_max = np.argmax(p_tmp)\n",
    "                        p_tmp[p_tmp<0.000001] = 0.000001\n",
    "                        x_IG = 0.05*np.ones(len(p_tmp))\n",
    "                        x_IG[arg_max] = 1 - 0.05*(len(p_tmp)-1)\n",
    "                        #print(x_IG)\n",
    "                        q_IAST_tmp = pyiast.iast(p_tmp,\n",
    "                                                iso_list,adsorbed_mole_fraction_guess = x_IG,\n",
    "                                                warningoff=True)        \n",
    "                    except:\n",
    "                        try:\n",
    "                            arg_max = np.argmax(p_tmp)\n",
    "                            p_tmp[p_tmp<0.000001] = 0.000001\n",
    "                            x_IG = 0.15*np.ones(len(p_tmp))\n",
    "                            x_IG[arg_max] = 1 - 0.15*(len(p_tmp)-1)\n",
    "                            #print(x_IG)\n",
    "                            q_IAST_tmp = pyiast.iast(p_tmp,\n",
    "                                                iso_list,adsorbed_mole_fraction_guess = x_IG,\n",
    "                                                warningoff=True)\n",
    "                        except:\n",
    "                            try:\n",
    "                                arg_min = np.argmin(p_tmp)\n",
    "                                p_tmp[p_tmp<0.000001] = 0.000001\n",
    "                                x_IG = 0.01*np.ones(len(p_tmp))\n",
    "                                x_IG[arg_min] = 1 - 0.01*(len(p_tmp)-1)\n",
    "                                #print(x_IG)\n",
    "                                q_IAST_tmp = pyiast.iast(p_tmp,\n",
    "                                            iso_list,adsorbed_mole_fraction_guess = x_IG,\n",
    "                                            warningoff=True)\n",
    "\n",
    "                            except:\n",
    "                                try:\n",
    "                                    arg_max = np.argmax(p_tmp)\n",
    "                                    p_tmp[p_tmp<0.000001] = 0.000001\n",
    "                                    x_IG = 0.01*np.ones(len(p_tmp))\n",
    "                                    x_IG[arg_max] = 1 - 0.01*(len(p_tmp)-1)\n",
    "                                    #print(x_IG)\n",
    "                                    q_IAST_tmp = pyiast.iast(p_tmp,\n",
    "                                                    iso_list,adsorbed_mole_fraction_guess = x_IG,\n",
    "                                                warningoff=True)        \n",
    "                                except:\n",
    "                                    p_tmp[p_tmp<0.000001] = 0.000001\n",
    "                                    x_IG = [0.9999, 0.0001]\n",
    "                                    #print(x_IG)\n",
    "                                    q_IAST_tmp = pyiast.iast(p_tmp,\n",
    "                                                    iso_list,adsorbed_mole_fraction_guess = x_IG,\n",
    "                                                warningoff=True)    \n",
    "    q_IAST_tmp = np.array([0.9865893*q_IAST_tmp[0],\n",
    "                           0.977627*q_IAST_tmp[1]])       \n",
    "    return q_IAST_tmp"
   ]
  },
  {
   "cell_type": "markdown",
   "metadata": {},
   "source": [
    "## x2x_new"
   ]
  },
  {
   "cell_type": "code",
   "execution_count": 28,
   "metadata": {},
   "outputs": [],
   "source": [
    "def x2x_new(x_ini,P_high,P_low,\n",
    "        iso_input, dH_input, Tref_input, \n",
    "        yfeed,Tfeed):\n",
    "    iso_1 = iso_input[0] # Heavy (CO2 or H2S)\n",
    "    iso_2 = iso_input[1] # Methane (CH4)\n",
    "    iso  = [iso_1,iso_2]\n",
    "    dH_1, dH_2 = dH_input[:2]         # (kJ/mol): Heat of adsorption\n",
    "    dH = np.array([dH_1,dH_2])*1000    # (J/mol): Heat of adsorption \n",
    "    P_low_part = np.array(x_ini)*P_low      # (bar): partial pressure\n",
    "    P_high_part = np.array(yfeed)*P_high    # (bar): partial pressure\n",
    "    ### Uptakes\n",
    "    #print(P_low_part)\n",
    "    P_low_part = np.reshape(P_low_part,len(iso))\n",
    "    q_des = iso_mix_new(P_low_part,Tfeed,iso,\n",
    "                    dH,Tref_input)\n",
    "    #print(P_high_part)\n",
    "    P_high_part = np.reshape(P_high_part,len(iso))\n",
    "    q_sat_tot = iso_mix_new(P_high_part,Tfeed,iso,\n",
    "                        dH,Tref_input)\n",
    "    Dq_tot = q_sat_tot-q_des\n",
    "    ### Leading component ?\n",
    "    sat_extent = np.array(yfeed)/Dq_tot # Saturation extent kg/mol\n",
    "    ind_lead_tot = np.argmax(sat_extent)\n",
    "    dq = q_sat_tot - q_des\n",
    "    x_out = dq/(np.sum(dq))\n",
    "    return x_out,ind_lead_tot"
   ]
  },
  {
   "cell_type": "markdown",
   "metadata": {},
   "source": [
    "## rec_new"
   ]
  },
  {
   "cell_type": "code",
   "execution_count": 29,
   "metadata": {},
   "outputs": [],
   "source": [
    "def rec_new(x_ini,P_high,P_low,\n",
    "        iso_input, dH_input, Tref_input, \n",
    "        yfeed,Tfeed):\n",
    "    def x_err(xx):\n",
    "        x_new,_ = x2x_new([xx, 1-xx],P_high,P_low,\n",
    "                           iso_input, dH_input, Tref_input, \n",
    "                           yfeed,Tfeed)\n",
    "        return (xx-x_new[0])**2\n",
    "    #sol = optim.minimize(x_err,x_ini,method='COBYLA')\n",
    "    sol = optim.least_squares(x_err,x_ini,bounds = [0,1])\n",
    "    x_sol = sol.x\n",
    "    _,i_lead = x2x_new([x_sol, 1- x_sol],P_high,P_low,\n",
    "                   iso_input, dH_input, Tref_input, \n",
    "                   yfeed,Tfeed)\n",
    "    Recovery = 1-(1-x_sol)/x_sol*yfeed[0]/yfeed[1]\n",
    "    if Recovery < 0 or Recovery > 1:\n",
    "        Recovery = 1-x_sol/(1-x_sol)*yfeed[1]/yfeed[0]\n",
    "    return Recovery, i_lead, x_sol"
   ]
  },
  {
   "cell_type": "markdown",
   "metadata": {},
   "source": [
    "# RUN CO2 VSA"
   ]
  },
  {
   "cell_type": "markdown",
   "metadata": {},
   "source": [
    "## PREVIOUS VSA"
   ]
  },
  {
   "cell_type": "code",
   "execution_count": 30,
   "metadata": {},
   "outputs": [
    {
     "name": "stdout",
     "output_type": "stream",
     "text": [
      "SEW-1\n"
     ]
    }
   ],
   "source": [
    "#P_h_range = np.arange(2.5,50.1,0.5)\n",
    "P_l_range = np.logspace(-3,np.log10(0.5))\n",
    "T_feed_in = 343         # (K) temperature or 298K\n",
    "T_tri = [298.15,]*2\n",
    "#y_feed_in = np.array([0.83356,0.1644])\n",
    "y_meth = 5/10\n",
    "#y_ethy = 0.83356\n",
    "y_feed_in = np.array([1-y_meth,y_meth])\n",
    "Rec_list_set = []\n",
    "leading_index_set = []\n",
    "xx_list_set = []\n",
    "Popt_CO2_list = []\n",
    "#Pl_list = np.linspace(0.004,0.5,30)\n",
    "\n",
    "Rec_list = []\n",
    "leading_index = []\n",
    "xx_list = []\n",
    "x_guess = np.array([0.5,0.5])\n",
    "for pl in P_l_range:\n",
    "    rec_tmp,l_ind,x_tmp = rec(x_guess[0], 1,pl,\n",
    "                              bins_targ_CO2, dH_targ_CO2, T_tri,y_feed_in, T_feed_in)\n",
    "    Rec_list.append(rec_tmp)\n",
    "    leading_index.append(l_ind)\n",
    "    xx_list.append(x_tmp)\n",
    "Rec_list_set.append(Rec_list)\n",
    "leading_index_set.append(leading_index)\n",
    "\n",
    "x_max = np.max(xx_list)\n",
    "\n",
    "print(nam)"
   ]
  },
  {
   "cell_type": "code",
   "execution_count": 31,
   "metadata": {},
   "outputs": [
    {
     "name": "stdout",
     "output_type": "stream",
     "text": [
      "75.12091739842394\n"
     ]
    },
    {
     "data": {
      "image/png": "[encoded data removed]",
      "text/plain": [
       "<Figure size 432x288 with 1 Axes>"
      ]
     },
     "metadata": {
      "needs_background": "light"
     },
     "output_type": "display_data"
    }
   ],
   "source": [
    "plt.plot(Rec_list)\n",
    "print(np.max(Rec_list)*100)"
   ]
  },
  {
   "cell_type": "markdown",
   "metadata": {},
   "source": [
    "## NEW VSA"
   ]
  },
  {
   "cell_type": "code",
   "execution_count": 32,
   "metadata": {},
   "outputs": [
    {
     "name": "stdout",
     "output_type": "stream",
     "text": [
      "SEW-1\n"
     ]
    }
   ],
   "source": [
    "#P_h_range = np.arange(2.5,50.1,0.5)\n",
    "P_l_range = np.logspace(-3,np.log10(0.5))\n",
    "T_feed_in = 343         # (K) temperature or 298K\n",
    "T_tri = [298.15,]*2\n",
    "#y_feed_in = np.array([0.83356,0.1644])\n",
    "y_meth = 5/10\n",
    "#y_ethy = 0.83356\n",
    "y_feed_in = np.array([1-y_meth,y_meth])\n",
    "Rec_list_set = []\n",
    "leading_index_set = []\n",
    "xx_list_set = []\n",
    "Popt_CO2_list = []\n",
    "#Pl_list = np.linspace(0.004,0.5,30)\n",
    "\n",
    "Rec_list = []\n",
    "leading_index = []\n",
    "xx_list = []\n",
    "x_guess = np.array([0.5,0.5])\n",
    "for pl in P_l_range:\n",
    "    rec_tmp,l_ind,x_tmp = rec_new(x_guess[0], 1,pl,\n",
    "                              bins_targ_CO2, dH_targ_CO2, T_tri,y_feed_in, T_feed_in)\n",
    "    Rec_list.append(rec_tmp)\n",
    "    leading_index.append(l_ind)\n",
    "    xx_list.append(x_tmp)\n",
    "Rec_list_set.append(Rec_list)\n",
    "leading_index_set.append(leading_index)\n",
    "\n",
    "x_max = np.max(xx_list)\n",
    "\n",
    "print(nam)"
   ]
  },
  {
   "cell_type": "code",
   "execution_count": 33,
   "metadata": {},
   "outputs": [
    {
     "name": "stdout",
     "output_type": "stream",
     "text": [
      "75.34043021430593\n"
     ]
    },
    {
     "data": {
      "image/png": "[encoded data removed]",
      "text/plain": [
       "<Figure size 432x288 with 1 Axes>"
      ]
     },
     "metadata": {
      "needs_background": "light"
     },
     "output_type": "display_data"
    }
   ],
   "source": [
    "plt.plot(Rec_list)\n",
    "print(np.max(Rec_list)*100)"
   ]
  },
  {
   "cell_type": "code",
   "execution_count": null,
   "metadata": {},
   "outputs": [],
   "source": []
  }
 ],
 "metadata": {
  "kernelspec": {
   "display_name": "Python 3",
   "language": "python",
   "name": "python3"
  },
  "language_info": {
   "codemirror_mode": {
    "name": "ipython",
    "version": 3
   },
   "file_extension": ".py",
   "mimetype": "text/x-python",
   "name": "python",
   "nbconvert_exporter": "python",
   "pygments_lexer": "ipython3",
   "version": "3.8.3"
  },
  "latex_envs": {
   "LaTeX_envs_menu_present": true,
   "autoclose": true,
   "autocomplete": true,
   "bibliofile": "biblio.bib",
   "cite_by": "apalike",
   "current_citInitial": 1,
   "eqLabelWithNumbers": true,
   "eqNumInitial": 1,
   "hotkeys": {
    "equation": "Ctrl-E",
    "itemize": "Ctrl-I"
   },
   "labels_anchors": false,
   "latex_user_defs": false,
   "report_style_numbering": true,
   "user_envs_cfg": false
  },
  "toc": {
   "base_numbering": 1,
   "nav_menu": {},
   "number_sections": true,
   "sideBar": true,
   "skip_h1_title": false,
   "title_cell": "Table of Contents",
   "title_sidebar": "Contents",
   "toc_cell": false,
   "toc_position": {
    "height": "calc(100% - 180px)",
    "left": "10px",
    "top": "150px",
    "width": "349.091px"
   },
   "toc_section_display": true,
   "toc_window_display": true
  },
  "varInspector": {
   "cols": {
    "lenName": 16,
    "lenType": 16,
    "lenVar": 40
   },
   "kernels_config": {
    "python": {
     "delete_cmd_postfix": "",
     "delete_cmd_prefix": "del ",
     "library": "var_list.py",
     "varRefreshCmd": "print(var_dic_list())"
    },
    "r": {
     "delete_cmd_postfix": ") ",
     "delete_cmd_prefix": "rm(",
     "library": "var_list.r",
     "varRefreshCmd": "cat(var_dic_list()) "
    }
   },
   "types_to_exclude": [
    "module",
    "function",
    "builtin_function_or_method",
    "instance",
    "_Feature"
   ],
   "window_display": false
  }
 },
 "nbformat": 4,
 "nbformat_minor": 4
}
