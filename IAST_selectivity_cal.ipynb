{
 "cells": [
  {
   "cell_type": "markdown",
   "metadata": {},
   "source": [
    "# Import"
   ]
  },
  {
   "cell_type": "code",
   "execution_count": 6,
   "metadata": {},
   "outputs": [
    {
     "name": "stdout",
     "output_type": "stream",
     "text": [
      "IWR-1\n",
      "LTL-2\n",
      "MOR-1\n",
      "SEW-1\n",
      "Total isotherm fittings =  12\n",
      "ouf of  12\n"
     ]
    }
   ],
   "source": [
    "import pyiast\n",
    "import pandas as pd\n",
    "import numpy as np\n",
    "import os\n",
    "import matplotlib.pyplot as plt\n",
    "import pickle\n",
    "import time\n",
    "import os\n",
    "import scipy.optimize as optim\n",
    "import matplotlib.pyplot as plt\n",
    "\n",
    "#df_NAME=pd.read_csv(\"HEAT_0215.csv\")\n",
    "df_NAME=pd.read_csv(\"HEAT_0413.csv\")\n",
    "\n",
    "\n",
    "bins_CO2 = []\n",
    "bins_H2S = []\n",
    "ccc = 0\n",
    "for nam in df_NAME[\"NAME\"]:\n",
    "    print(nam)\n",
    "    f_tmp = open(\"iso_\"+nam+\"_saved.bin\",'rb')\n",
    "    bin_tmp = np.array(pickle.load(f_tmp))\n",
    "    #print(ccc)\n",
    "    #print(bin_tmp)\n",
    "\n",
    "    bins_CO2.append(bin_tmp[[False, True, True]]) ## Pick 1 = CO2, 2 = CH4 \n",
    "\n",
    "    f_tmp.close()\n",
    "    ccc = ccc + 1\n",
    "ccc = 0\n",
    "summm = 0\n",
    "for nam in df_NAME[\"NAME\"]:\n",
    "    f_tmp = open(\"iso_\"+nam+\"_saved.bin\",'rb') ## 0 = H2S , 1 = CO2, 2 = CH4\n",
    "    bin_tmp = np.array(pickle.load(f_tmp))\n",
    "    #print(ccc)\n",
    "    #print(bin_tmp)\n",
    "    summm = summm + len(bin_tmp)\n",
    "    bins_H2S.append(bin_tmp[[True, False, True]]) ## Pick 0 = H2S and 2 = CH4\n",
    "\n",
    "    f_tmp.close()\n",
    "    ccc = ccc + 1\n",
    "    \n",
    "print('Total isotherm fittings = ',summm )\n",
    "print('ouf of ', 3*len(df_NAME[\"NAME\"].to_numpy()))\n",
    "    \n",
    "Names_CO2=df_NAME[\"NAME\"].to_numpy()\n",
    "Names_H2S=df_NAME[\"NAME\"].to_numpy()\n",
    "dH_CO2 = np.array([df_NAME[\"CO2_Heat\"], df_NAME[\"CH4_Heat\"]]).T\n",
    "dH_H2S = np.array([df_NAME[\"H2S_Heat\"],df_NAME[\"CH4_Heat\"]]).T\n"
   ]
  },
  {
   "cell_type": "markdown",
   "metadata": {},
   "source": [
    "# Function: iso_mix"
   ]
  },
  {
   "cell_type": "code",
   "execution_count": 8,
   "metadata": {},
   "outputs": [],
   "source": [
    "Arrh = lambda T,dH ,T_ref: np.exp(-dH/8.3145*(1/T - 1/T_ref)) # Arrhenius equation (Clasius-Clapeyron Equation)\n",
    "\n",
    "## Isothermal mixture isotherm\n",
    "def iso_mix(P_par, T, iso_list, dH_list,Tref_list):\n",
    "    P_norm = []\n",
    "    for (p,dh,tref) in zip(P_par, dH_list,Tref_list):\n",
    "        p_n = Arrh(T,dh,tref)*p \n",
    "        P_norm.append(p_n)\n",
    "    P_norm_arr = np.array(P_norm)\n",
    "    #print(P_norm_mat.T)\n",
    "    if P_norm_arr.ndim > 1:\n",
    "        for i in range(len(P_norm[0])):\n",
    "            p_tmp = P_norm_arr[i,:]\n",
    "            p_tmp[p_tmp<0.000001] = 0.000001\n",
    "            q_IAST_tmp = pyiast.iast(p_tmp,\n",
    "                                     iso_list,\n",
    "                                     warningoff=True)\n",
    "    else:\n",
    "        try:\n",
    "            p_tmp = P_norm_arr\n",
    "            p_tmp[p_tmp<0.000001] = 0.000001\n",
    "            #print(p_tmp)\n",
    "            q_IAST_tmp = pyiast.iast(p_tmp,\n",
    "                                    iso_list,\n",
    "                                     warningoff=True)\n",
    "        except:    \n",
    "            try:\n",
    "                #print('Initial guess error with P = ',P_par)\n",
    "                x_IG = np.ones(len(p_tmp))/len(p_tmp)\n",
    "                q_IAST_tmp = pyiast.iast(p_tmp,\n",
    "                                        iso_list,adsorbed_mole_fraction_guess = x_IG,\n",
    "                                        warningoff=True)\n",
    "            except:\n",
    "                try:\n",
    "                    arg_min = np.argmin(p_tmp)\n",
    "                    p_tmp[p_tmp<0.000001] = 0.000001\n",
    "                    x_IG = 0.05*np.ones(len(p_tmp))\n",
    "                    x_IG[arg_min] = 1 - 0.05*(len(p_tmp)-1)\n",
    "                    #print(x_IG)\n",
    "                    q_IAST_tmp = pyiast.iast(p_tmp,\n",
    "                                            iso_list,adsorbed_mole_fraction_guess = x_IG,\n",
    "                                            warningoff=True)\n",
    "\n",
    "                except:\n",
    "                    try:\n",
    "                        arg_max = np.argmax(p_tmp)\n",
    "                        p_tmp[p_tmp<0.000001] = 0.000001\n",
    "                        x_IG = 0.05*np.ones(len(p_tmp))\n",
    "                        x_IG[arg_max] = 1 - 0.05*(len(p_tmp)-1)\n",
    "                        #print(x_IG)\n",
    "                        q_IAST_tmp = pyiast.iast(p_tmp,\n",
    "                                                iso_list,adsorbed_mole_fraction_guess = x_IG,\n",
    "                                                warningoff=True)        \n",
    "                    except:\n",
    "                        try:\n",
    "                            arg_max = np.argmax(p_tmp)\n",
    "                            p_tmp[p_tmp<0.000001] = 0.000001\n",
    "                            x_IG = 0.15*np.ones(len(p_tmp))\n",
    "                            x_IG[arg_max] = 1 - 0.15*(len(p_tmp)-1)\n",
    "                            #print(x_IG)\n",
    "                            q_IAST_tmp = pyiast.iast(p_tmp,\n",
    "                                                iso_list,adsorbed_mole_fraction_guess = x_IG,\n",
    "                                                warningoff=True)\n",
    "                        except:\n",
    "                            try:\n",
    "                                arg_min = np.argmin(p_tmp)\n",
    "                                p_tmp[p_tmp<0.000001] = 0.000001\n",
    "                                x_IG = 0.01*np.ones(len(p_tmp))\n",
    "                                x_IG[arg_min] = 1 - 0.01*(len(p_tmp)-1)\n",
    "                                #print(x_IG)\n",
    "                                q_IAST_tmp = pyiast.iast(p_tmp,\n",
    "                                            iso_list,adsorbed_mole_fraction_guess = x_IG,\n",
    "                                            warningoff=True)\n",
    "\n",
    "                            except:\n",
    "                                try:\n",
    "                                    arg_max = np.argmax(p_tmp)\n",
    "                                    p_tmp[p_tmp<0.000001] = 0.000001\n",
    "                                    x_IG = 0.01*np.ones(len(p_tmp))\n",
    "                                    x_IG[arg_max] = 1 - 0.01*(len(p_tmp)-1)\n",
    "                                    #print(x_IG)\n",
    "                                    q_IAST_tmp = pyiast.iast(p_tmp,\n",
    "                                                    iso_list,adsorbed_mole_fraction_guess = x_IG,\n",
    "                                                warningoff=True)        \n",
    "                                except:\n",
    "                                    p_tmp[p_tmp<0.000001] = 0.000001\n",
    "                                    arg_invalid = p_tmp < 0.00001\n",
    "                                    arg_valid = (p_tmp < 0.00001) == False\n",
    "                                    if np.sum(arg_valid) == 1:\n",
    "                                        q_IAST_tmp = np.zeros(len(iso_list))\n",
    "                                        q_IAST_tmp[arg_valid] = iso_list[arg_valid].loading(p_tmp[arg_valid])\n",
    "                                        q_IAST_tmp[arg_invalid] = 0.00001\n",
    "                                    else:\n",
    "                                        x_IG = [0.9999, 0.0001]\n",
    "                                        #print(x_IG)\n",
    "                                        q_IAST_tmp = pyiast.iast(\n",
    "                                            p_tmp,iso_list,\n",
    "                                            adsorbed_mole_fraction_guess = x_IG,\n",
    "                                            warningoff=True)\n",
    "    return q_IAST_tmp"
   ]
  },
  {
   "cell_type": "markdown",
   "metadata": {},
   "source": [
    "# Selectivity of CO2 case"
   ]
  },
  {
   "cell_type": "markdown",
   "metadata": {},
   "source": [
    "## 50bar selectivity (CO2/CH4)"
   ]
  },
  {
   "cell_type": "code",
   "execution_count": 9,
   "metadata": {},
   "outputs": [
    {
     "name": "stdout",
     "output_type": "stream",
     "text": [
      "IWR-1\n",
      "LTL-2\n",
      "MOR-1\n",
      "SEW-1\n"
     ]
    },
    {
     "data": {
      "text/plain": [
       "(0.0, 6.5)"
      ]
     },
     "execution_count": 9,
     "metadata": {},
     "output_type": "execute_result"
    },
    {
     "data": {
      "image/png": "[encoded data removed]",
      "text/plain": [
       "<Figure size 432x288 with 1 Axes>"
      ]
     },
     "metadata": {
      "needs_background": "light"
     },
     "output_type": "display_data"
    }
   ],
   "source": [
    "isoo = bins_CO2[0]\n",
    "P_h_sel = 50\n",
    "y_f_sel = 0.5 ### CO2 mole fraction\n",
    "\n",
    "sel_IAST_CO2 = []\n",
    "for isoo,nana,dhdh in zip(bins_CO2, Names_CO2,dH_CO2):\n",
    "    iast_res = iso_mix(np.array([y_f_sel, 1-y_f_sel])*P_h_sel, ## partial pressure\n",
    "    343,isoo,dhdh*1000,[298.15,298.15])\n",
    "    #iast_res = pyiast.iast(np.array([y_f_sel, 1-y_f_sel])*P_h_sel, isoo)\n",
    "    sel_tmp = iast_res[0]/iast_res[1]*(1-y_f_sel)/y_f_sel \n",
    "    sel_IAST_CO2.append(sel_tmp)\n",
    "    print(nana)\n",
    "sel_IAST_CO2 = np.array(sel_IAST_CO2)\n",
    "plt.plot(sel_IAST_CO2, 'o')\n",
    "plt.ylim([0, 6.5])"
   ]
  },
  {
   "cell_type": "markdown",
   "metadata": {},
   "source": [
    "## 1bar selectivity (CO2/CH4)"
   ]
  },
  {
   "cell_type": "code",
   "execution_count": 10,
   "metadata": {},
   "outputs": [
    {
     "name": "stdout",
     "output_type": "stream",
     "text": [
      "IWR-1\n",
      "LTL-2\n",
      "MOR-1\n",
      "SEW-1\n"
     ]
    },
    {
     "data": {
      "text/plain": [
       "(0.0, 6.5)"
      ]
     },
     "execution_count": 10,
     "metadata": {},
     "output_type": "execute_result"
    },
    {
     "data": {
      "image/png": "[encoded data removed]",
      "text/plain": [
       "<Figure size 432x288 with 1 Axes>"
      ]
     },
     "metadata": {
      "needs_background": "light"
     },
     "output_type": "display_data"
    }
   ],
   "source": [
    "isoo = bins_CO2[0]\n",
    "P_h_sel = 1\n",
    "y_f_sel = 0.5 ### CO2 mole fraction\n",
    "\n",
    "sel_IAST_CO2_1bar = []\n",
    "for isoo,nana,dhdh in zip(bins_CO2, Names_CO2,dH_CO2):\n",
    "    iast_res = iso_mix(np.array([y_f_sel, 1-y_f_sel])*P_h_sel, ## partial pressure\n",
    "    343,isoo,dhdh*1000,[298.15,298.15])\n",
    "    #iast_res = pyiast.iast(np.array([y_f_sel, 1-y_f_sel])*P_h_sel, isoo)\n",
    "    sel_tmp = iast_res[0]/iast_res[1]*(1-y_f_sel)/y_f_sel \n",
    "    sel_IAST_CO2_1bar.append(sel_tmp)\n",
    "    print(nana)\n",
    "sel_IAST_CO2_1bar = np.array(sel_IAST_CO2_1bar)\n",
    "plt.plot(sel_IAST_CO2_1bar, 'o')\n",
    "plt.ylim([0, 6.5])"
   ]
  },
  {
   "cell_type": "markdown",
   "metadata": {},
   "source": [
    "## Save the data (CO2/CH4 selectivities)"
   ]
  },
  {
   "cell_type": "code",
   "execution_count": 12,
   "metadata": {},
   "outputs": [],
   "source": [
    "di_CO2 = {'NAME': Names_CO2,\n",
    "         'CO2/CH4 selectivity': sel_IAST_CO2}\n",
    "df_CO2 = pd.DataFrame(di_CO2)\n",
    "df_CO2.to_csv('IAST_selectivit_CO2_50bar.csv',index = False)"
   ]
  },
  {
   "cell_type": "code",
   "execution_count": 13,
   "metadata": {},
   "outputs": [],
   "source": [
    "di_CO2_1bar = {'NAME': Names_CO2,\n",
    "         'CO2/CH4 selectivity': sel_IAST_CO2_1bar}\n",
    "df_CO2_1bar = pd.DataFrame(di_CO2_1bar)\n",
    "df_CO2_1bar.to_csv('IAST_selectivit_CO2_1bar.csv',index = False)"
   ]
  },
  {
   "cell_type": "markdown",
   "metadata": {},
   "source": [
    "# Selectivity of H2S case"
   ]
  },
  {
   "cell_type": "markdown",
   "metadata": {},
   "source": [
    "## 50bar selectivity (H2S/CH4)"
   ]
  },
  {
   "cell_type": "code",
   "execution_count": 14,
   "metadata": {},
   "outputs": [
    {
     "name": "stdout",
     "output_type": "stream",
     "text": [
      "IWR-1\n",
      "LTL-2\n",
      "MOR-1\n",
      "SEW-1\n"
     ]
    },
    {
     "data": {
      "text/plain": [
       "(0.0, 6.5)"
      ]
     },
     "execution_count": 14,
     "metadata": {},
     "output_type": "execute_result"
    },
    {
     "data": {
      "image/png": "[encoded data removed]",
      "text/plain": [
       "<Figure size 432x288 with 1 Axes>"
      ]
     },
     "metadata": {
      "needs_background": "light"
     },
     "output_type": "display_data"
    }
   ],
   "source": [
    "isoo = bins_H2S[0]\n",
    "P_h_sel = 50\n",
    "y_f_sel = 0.5 ### CO2 mole fraction\n",
    "\n",
    "sel_IAST_H2S = []\n",
    "for isoo,nana,dhdh in zip(bins_H2S, Names_H2S,dH_H2S):\n",
    "    iast_res = iso_mix(np.array([y_f_sel, 1-y_f_sel])*P_h_sel, ## partial pressure\n",
    "    343,isoo,dhdh*1000,[298.15,298.15])\n",
    "    #iast_res = pyiast.iast(np.array([y_f_sel, 1-y_f_sel])*P_h_sel, isoo)\n",
    "    sel_tmp = iast_res[0]/iast_res[1]*(1-y_f_sel)/y_f_sel \n",
    "    sel_IAST_H2S.append(sel_tmp)\n",
    "    print(nana)\n",
    "sel_IAST_H2S = np.array(sel_IAST_H2S)\n",
    "plt.plot(sel_IAST_H2S, 'o')\n",
    "plt.ylim([0, 6.5])"
   ]
  },
  {
   "cell_type": "markdown",
   "metadata": {},
   "source": [
    "## 1bar selectivity (H2S/CH4)"
   ]
  },
  {
   "cell_type": "code",
   "execution_count": 15,
   "metadata": {},
   "outputs": [
    {
     "name": "stdout",
     "output_type": "stream",
     "text": [
      "IWR-1\n",
      "LTL-2\n",
      "MOR-1\n",
      "SEW-1\n"
     ]
    },
    {
     "data": {
      "text/plain": [
       "(0.0, 6.5)"
      ]
     },
     "execution_count": 15,
     "metadata": {},
     "output_type": "execute_result"
    },
    {
     "data": {
      "image/png": "[encoded data removed]",
      "text/plain": [
       "<Figure size 432x288 with 1 Axes>"
      ]
     },
     "metadata": {
      "needs_background": "light"
     },
     "output_type": "display_data"
    }
   ],
   "source": [
    "isoo = bins_H2S[0]\n",
    "P_h_sel = 1\n",
    "y_f_sel = 0.5 ### CO2 mole fraction\n",
    "\n",
    "sel_IAST_H2S_1bar = []\n",
    "for isoo,nana,dhdh in zip(bins_H2S, Names_H2S,dH_H2S):\n",
    "    iast_res = iso_mix(np.array([y_f_sel, 1-y_f_sel])*P_h_sel, ## partial pressure\n",
    "    343,isoo,dhdh*1000,[298.15,298.15])\n",
    "    #iast_res = pyiast.iast(np.array([y_f_sel, 1-y_f_sel])*P_h_sel, isoo)\n",
    "    sel_tmp = iast_res[0]/iast_res[1]*(1-y_f_sel)/y_f_sel \n",
    "    sel_IAST_H2S_1bar.append(sel_tmp)\n",
    "    print(nana)\n",
    "sel_IAST_H2S_1bar = np.array(sel_IAST_H2S_1bar)\n",
    "plt.plot(sel_IAST_H2S_1bar, 'o')\n",
    "plt.ylim([0, 6.5])"
   ]
  },
  {
   "cell_type": "markdown",
   "metadata": {},
   "source": [
    "## Save the data (H2S/CH4 selectivities)"
   ]
  },
  {
   "cell_type": "code",
   "execution_count": 16,
   "metadata": {},
   "outputs": [],
   "source": [
    "di_H2S = {'NAME': Names_H2S,\n",
    "         'H2S/CH4 selectivity': sel_IAST_H2S}\n",
    "df_H2S = pd.DataFrame(di_H2S)\n",
    "df_H2S.to_csv('IAST_selectivit_H2S_50bar.csv',index = False)"
   ]
  },
  {
   "cell_type": "code",
   "execution_count": 17,
   "metadata": {},
   "outputs": [],
   "source": [
    "di_H2S_1bar = {'NAME': Names_H2S,\n",
    "         'H2S/CH4 selectivity': sel_IAST_H2S_1bar}\n",
    "df_H2S_1bar = pd.DataFrame(di_H2S_1bar)\n",
    "df_H2S_1bar.to_csv('IAST_selectivit_H2S_1bar.csv',index = False)"
   ]
  },
  {
   "cell_type": "code",
   "execution_count": null,
   "metadata": {},
   "outputs": [],
   "source": []
  }
 ],
 "metadata": {
  "kernelspec": {
   "display_name": "Python 3",
   "language": "python",
   "name": "python3"
  },
  "language_info": {
   "codemirror_mode": {
    "name": "ipython",
    "version": 3
   },
   "file_extension": ".py",
   "mimetype": "text/x-python",
   "name": "python",
   "nbconvert_exporter": "python",
   "pygments_lexer": "ipython3",
   "version": "3.8.3"
  },
  "latex_envs": {
   "LaTeX_envs_menu_present": true,
   "autoclose": true,
   "autocomplete": true,
   "bibliofile": "biblio.bib",
   "cite_by": "apalike",
   "current_citInitial": 1,
   "eqLabelWithNumbers": true,
   "eqNumInitial": 1,
   "hotkeys": {
    "equation": "Ctrl-E",
    "itemize": "Ctrl-I"
   },
   "labels_anchors": false,
   "latex_user_defs": false,
   "report_style_numbering": true,
   "user_envs_cfg": false
  },
  "toc": {
   "base_numbering": 1,
   "nav_menu": {},
   "number_sections": true,
   "sideBar": true,
   "skip_h1_title": false,
   "title_cell": "Table of Contents",
   "title_sidebar": "Contents",
   "toc_cell": false,
   "toc_position": {},
   "toc_section_display": true,
   "toc_window_display": true
  },
  "varInspector": {
   "cols": {
    "lenName": 16,
    "lenType": 16,
    "lenVar": 40
   },
   "kernels_config": {
    "python": {
     "delete_cmd_postfix": "",
     "delete_cmd_prefix": "del ",
     "library": "var_list.py",
     "varRefreshCmd": "print(var_dic_list())"
    },
    "r": {
     "delete_cmd_postfix": ") ",
     "delete_cmd_prefix": "rm(",
     "library": "var_list.r",
     "varRefreshCmd": "cat(var_dic_list()) "
    }
   },
   "types_to_exclude": [
    "module",
    "function",
    "builtin_function_or_method",
    "instance",
    "_Feature"
   ],
   "window_display": false
  }
 },
 "nbformat": 4,
 "nbformat_minor": 4
}
